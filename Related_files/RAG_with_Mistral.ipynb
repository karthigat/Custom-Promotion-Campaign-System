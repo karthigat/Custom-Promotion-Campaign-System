{
  "nbformat": 4,
  "nbformat_minor": 0,
  "metadata": {
    "colab": {
      "provenance": []
    },
    "kernelspec": {
      "name": "python3",
      "display_name": "Python 3"
    },
    "language_info": {
      "name": "python"
    }
  },
  "cells": [
    {
      "cell_type": "code",
      "source": [
        "!pip install langchain-community\n",
        "!pip install langchain"
      ],
      "metadata": {
        "colab": {
          "base_uri": "https://localhost:8080/"
        },
        "id": "lQNKsf_kCSLK",
        "outputId": "0ed499c1-8ef3-4258-a21c-5ae94bfe32dd"
      },
      "execution_count": 11,
      "outputs": [
        {
          "output_type": "stream",
          "name": "stdout",
          "text": [
            "Requirement already satisfied: langchain-community in /usr/local/lib/python3.10/dist-packages (0.2.5)\n",
            "Requirement already satisfied: PyYAML>=5.3 in /usr/local/lib/python3.10/dist-packages (from langchain-community) (6.0.1)\n",
            "Requirement already satisfied: SQLAlchemy<3,>=1.4 in /usr/local/lib/python3.10/dist-packages (from langchain-community) (2.0.30)\n",
            "Requirement already satisfied: aiohttp<4.0.0,>=3.8.3 in /usr/local/lib/python3.10/dist-packages (from langchain-community) (3.9.5)\n",
            "Requirement already satisfied: dataclasses-json<0.7,>=0.5.7 in /usr/local/lib/python3.10/dist-packages (from langchain-community) (0.6.7)\n",
            "Requirement already satisfied: langchain<0.3.0,>=0.2.5 in /usr/local/lib/python3.10/dist-packages (from langchain-community) (0.2.5)\n",
            "Requirement already satisfied: langchain-core<0.3.0,>=0.2.7 in /usr/local/lib/python3.10/dist-packages (from langchain-community) (0.2.9)\n",
            "Requirement already satisfied: langsmith<0.2.0,>=0.1.0 in /usr/local/lib/python3.10/dist-packages (from langchain-community) (0.1.81)\n",
            "Requirement already satisfied: numpy<2,>=1 in /usr/local/lib/python3.10/dist-packages (from langchain-community) (1.25.2)\n",
            "Requirement already satisfied: requests<3,>=2 in /usr/local/lib/python3.10/dist-packages (from langchain-community) (2.31.0)\n",
            "Requirement already satisfied: tenacity<9.0.0,>=8.1.0 in /usr/local/lib/python3.10/dist-packages (from langchain-community) (8.4.1)\n",
            "Requirement already satisfied: aiosignal>=1.1.2 in /usr/local/lib/python3.10/dist-packages (from aiohttp<4.0.0,>=3.8.3->langchain-community) (1.3.1)\n",
            "Requirement already satisfied: attrs>=17.3.0 in /usr/local/lib/python3.10/dist-packages (from aiohttp<4.0.0,>=3.8.3->langchain-community) (23.2.0)\n",
            "Requirement already satisfied: frozenlist>=1.1.1 in /usr/local/lib/python3.10/dist-packages (from aiohttp<4.0.0,>=3.8.3->langchain-community) (1.4.1)\n",
            "Requirement already satisfied: multidict<7.0,>=4.5 in /usr/local/lib/python3.10/dist-packages (from aiohttp<4.0.0,>=3.8.3->langchain-community) (6.0.5)\n",
            "Requirement already satisfied: yarl<2.0,>=1.0 in /usr/local/lib/python3.10/dist-packages (from aiohttp<4.0.0,>=3.8.3->langchain-community) (1.9.4)\n",
            "Requirement already satisfied: async-timeout<5.0,>=4.0 in /usr/local/lib/python3.10/dist-packages (from aiohttp<4.0.0,>=3.8.3->langchain-community) (4.0.3)\n",
            "Requirement already satisfied: marshmallow<4.0.0,>=3.18.0 in /usr/local/lib/python3.10/dist-packages (from dataclasses-json<0.7,>=0.5.7->langchain-community) (3.21.3)\n",
            "Requirement already satisfied: typing-inspect<1,>=0.4.0 in /usr/local/lib/python3.10/dist-packages (from dataclasses-json<0.7,>=0.5.7->langchain-community) (0.9.0)\n",
            "Requirement already satisfied: langchain-text-splitters<0.3.0,>=0.2.0 in /usr/local/lib/python3.10/dist-packages (from langchain<0.3.0,>=0.2.5->langchain-community) (0.2.1)\n",
            "Requirement already satisfied: pydantic<3,>=1 in /usr/local/lib/python3.10/dist-packages (from langchain<0.3.0,>=0.2.5->langchain-community) (2.7.4)\n",
            "Requirement already satisfied: jsonpatch<2.0,>=1.33 in /usr/local/lib/python3.10/dist-packages (from langchain-core<0.3.0,>=0.2.7->langchain-community) (1.33)\n",
            "Requirement already satisfied: packaging<25,>=23.2 in /usr/local/lib/python3.10/dist-packages (from langchain-core<0.3.0,>=0.2.7->langchain-community) (24.1)\n",
            "Requirement already satisfied: orjson<4.0.0,>=3.9.14 in /usr/local/lib/python3.10/dist-packages (from langsmith<0.2.0,>=0.1.0->langchain-community) (3.10.5)\n",
            "Requirement already satisfied: charset-normalizer<4,>=2 in /usr/local/lib/python3.10/dist-packages (from requests<3,>=2->langchain-community) (3.3.2)\n",
            "Requirement already satisfied: idna<4,>=2.5 in /usr/local/lib/python3.10/dist-packages (from requests<3,>=2->langchain-community) (3.7)\n",
            "Requirement already satisfied: urllib3<3,>=1.21.1 in /usr/local/lib/python3.10/dist-packages (from requests<3,>=2->langchain-community) (2.0.7)\n",
            "Requirement already satisfied: certifi>=2017.4.17 in /usr/local/lib/python3.10/dist-packages (from requests<3,>=2->langchain-community) (2024.6.2)\n",
            "Requirement already satisfied: typing-extensions>=4.6.0 in /usr/local/lib/python3.10/dist-packages (from SQLAlchemy<3,>=1.4->langchain-community) (4.12.2)\n",
            "Requirement already satisfied: greenlet!=0.4.17 in /usr/local/lib/python3.10/dist-packages (from SQLAlchemy<3,>=1.4->langchain-community) (3.0.3)\n",
            "Requirement already satisfied: jsonpointer>=1.9 in /usr/local/lib/python3.10/dist-packages (from jsonpatch<2.0,>=1.33->langchain-core<0.3.0,>=0.2.7->langchain-community) (3.0.0)\n",
            "Requirement already satisfied: annotated-types>=0.4.0 in /usr/local/lib/python3.10/dist-packages (from pydantic<3,>=1->langchain<0.3.0,>=0.2.5->langchain-community) (0.7.0)\n",
            "Requirement already satisfied: pydantic-core==2.18.4 in /usr/local/lib/python3.10/dist-packages (from pydantic<3,>=1->langchain<0.3.0,>=0.2.5->langchain-community) (2.18.4)\n",
            "Requirement already satisfied: mypy-extensions>=0.3.0 in /usr/local/lib/python3.10/dist-packages (from typing-inspect<1,>=0.4.0->dataclasses-json<0.7,>=0.5.7->langchain-community) (1.0.0)\n",
            "Requirement already satisfied: langchain in /usr/local/lib/python3.10/dist-packages (0.2.5)\n",
            "Requirement already satisfied: PyYAML>=5.3 in /usr/local/lib/python3.10/dist-packages (from langchain) (6.0.1)\n",
            "Requirement already satisfied: SQLAlchemy<3,>=1.4 in /usr/local/lib/python3.10/dist-packages (from langchain) (2.0.30)\n",
            "Requirement already satisfied: aiohttp<4.0.0,>=3.8.3 in /usr/local/lib/python3.10/dist-packages (from langchain) (3.9.5)\n",
            "Requirement already satisfied: async-timeout<5.0.0,>=4.0.0 in /usr/local/lib/python3.10/dist-packages (from langchain) (4.0.3)\n",
            "Requirement already satisfied: langchain-core<0.3.0,>=0.2.7 in /usr/local/lib/python3.10/dist-packages (from langchain) (0.2.9)\n",
            "Requirement already satisfied: langchain-text-splitters<0.3.0,>=0.2.0 in /usr/local/lib/python3.10/dist-packages (from langchain) (0.2.1)\n",
            "Requirement already satisfied: langsmith<0.2.0,>=0.1.17 in /usr/local/lib/python3.10/dist-packages (from langchain) (0.1.81)\n",
            "Requirement already satisfied: numpy<2,>=1 in /usr/local/lib/python3.10/dist-packages (from langchain) (1.25.2)\n",
            "Requirement already satisfied: pydantic<3,>=1 in /usr/local/lib/python3.10/dist-packages (from langchain) (2.7.4)\n",
            "Requirement already satisfied: requests<3,>=2 in /usr/local/lib/python3.10/dist-packages (from langchain) (2.31.0)\n",
            "Requirement already satisfied: tenacity<9.0.0,>=8.1.0 in /usr/local/lib/python3.10/dist-packages (from langchain) (8.4.1)\n",
            "Requirement already satisfied: aiosignal>=1.1.2 in /usr/local/lib/python3.10/dist-packages (from aiohttp<4.0.0,>=3.8.3->langchain) (1.3.1)\n",
            "Requirement already satisfied: attrs>=17.3.0 in /usr/local/lib/python3.10/dist-packages (from aiohttp<4.0.0,>=3.8.3->langchain) (23.2.0)\n",
            "Requirement already satisfied: frozenlist>=1.1.1 in /usr/local/lib/python3.10/dist-packages (from aiohttp<4.0.0,>=3.8.3->langchain) (1.4.1)\n",
            "Requirement already satisfied: multidict<7.0,>=4.5 in /usr/local/lib/python3.10/dist-packages (from aiohttp<4.0.0,>=3.8.3->langchain) (6.0.5)\n",
            "Requirement already satisfied: yarl<2.0,>=1.0 in /usr/local/lib/python3.10/dist-packages (from aiohttp<4.0.0,>=3.8.3->langchain) (1.9.4)\n",
            "Requirement already satisfied: jsonpatch<2.0,>=1.33 in /usr/local/lib/python3.10/dist-packages (from langchain-core<0.3.0,>=0.2.7->langchain) (1.33)\n",
            "Requirement already satisfied: packaging<25,>=23.2 in /usr/local/lib/python3.10/dist-packages (from langchain-core<0.3.0,>=0.2.7->langchain) (24.1)\n",
            "Requirement already satisfied: orjson<4.0.0,>=3.9.14 in /usr/local/lib/python3.10/dist-packages (from langsmith<0.2.0,>=0.1.17->langchain) (3.10.5)\n",
            "Requirement already satisfied: annotated-types>=0.4.0 in /usr/local/lib/python3.10/dist-packages (from pydantic<3,>=1->langchain) (0.7.0)\n",
            "Requirement already satisfied: pydantic-core==2.18.4 in /usr/local/lib/python3.10/dist-packages (from pydantic<3,>=1->langchain) (2.18.4)\n",
            "Requirement already satisfied: typing-extensions>=4.6.1 in /usr/local/lib/python3.10/dist-packages (from pydantic<3,>=1->langchain) (4.12.2)\n",
            "Requirement already satisfied: charset-normalizer<4,>=2 in /usr/local/lib/python3.10/dist-packages (from requests<3,>=2->langchain) (3.3.2)\n",
            "Requirement already satisfied: idna<4,>=2.5 in /usr/local/lib/python3.10/dist-packages (from requests<3,>=2->langchain) (3.7)\n",
            "Requirement already satisfied: urllib3<3,>=1.21.1 in /usr/local/lib/python3.10/dist-packages (from requests<3,>=2->langchain) (2.0.7)\n",
            "Requirement already satisfied: certifi>=2017.4.17 in /usr/local/lib/python3.10/dist-packages (from requests<3,>=2->langchain) (2024.6.2)\n",
            "Requirement already satisfied: greenlet!=0.4.17 in /usr/local/lib/python3.10/dist-packages (from SQLAlchemy<3,>=1.4->langchain) (3.0.3)\n",
            "Requirement already satisfied: jsonpointer>=1.9 in /usr/local/lib/python3.10/dist-packages (from jsonpatch<2.0,>=1.33->langchain-core<0.3.0,>=0.2.7->langchain) (3.0.0)\n"
          ]
        }
      ]
    },
    {
      "cell_type": "code",
      "execution_count": 12,
      "metadata": {
        "id": "VlArWHnWBypU"
      },
      "outputs": [],
      "source": [
        "from langchain.document_loaders.csv_loader import CSVLoader"
      ]
    },
    {
      "cell_type": "code",
      "source": [
        "!pip install llama-index"
      ],
      "metadata": {
        "colab": {
          "base_uri": "https://localhost:8080/"
        },
        "id": "n6QnXJjADwQI",
        "outputId": "f7ec5d42-35b1-4bd2-cc01-146b8d2a9e0d"
      },
      "execution_count": 13,
      "outputs": [
        {
          "output_type": "stream",
          "name": "stdout",
          "text": [
            "Requirement already satisfied: llama-index in /usr/local/lib/python3.10/dist-packages (0.10.48.post1)\n",
            "Requirement already satisfied: llama-index-agent-openai<0.3.0,>=0.1.4 in /usr/local/lib/python3.10/dist-packages (from llama-index) (0.2.7)\n",
            "Requirement already satisfied: llama-index-cli<0.2.0,>=0.1.2 in /usr/local/lib/python3.10/dist-packages (from llama-index) (0.1.12)\n",
            "Requirement already satisfied: llama-index-core==0.10.48 in /usr/local/lib/python3.10/dist-packages (from llama-index) (0.10.48)\n",
            "Requirement already satisfied: llama-index-embeddings-openai<0.2.0,>=0.1.5 in /usr/local/lib/python3.10/dist-packages (from llama-index) (0.1.10)\n",
            "Requirement already satisfied: llama-index-indices-managed-llama-cloud<0.2.0,>=0.1.2 in /usr/local/lib/python3.10/dist-packages (from llama-index) (0.1.6)\n",
            "Requirement already satisfied: llama-index-legacy<0.10.0,>=0.9.48 in /usr/local/lib/python3.10/dist-packages (from llama-index) (0.9.48)\n",
            "Requirement already satisfied: llama-index-llms-openai<0.2.0,>=0.1.13 in /usr/local/lib/python3.10/dist-packages (from llama-index) (0.1.22)\n",
            "Requirement already satisfied: llama-index-multi-modal-llms-openai<0.2.0,>=0.1.3 in /usr/local/lib/python3.10/dist-packages (from llama-index) (0.1.6)\n",
            "Requirement already satisfied: llama-index-program-openai<0.2.0,>=0.1.3 in /usr/local/lib/python3.10/dist-packages (from llama-index) (0.1.6)\n",
            "Requirement already satisfied: llama-index-question-gen-openai<0.2.0,>=0.1.2 in /usr/local/lib/python3.10/dist-packages (from llama-index) (0.1.3)\n",
            "Requirement already satisfied: llama-index-readers-file<0.2.0,>=0.1.4 in /usr/local/lib/python3.10/dist-packages (from llama-index) (0.1.25)\n",
            "Requirement already satisfied: llama-index-readers-llama-parse<0.2.0,>=0.1.2 in /usr/local/lib/python3.10/dist-packages (from llama-index) (0.1.4)\n",
            "Requirement already satisfied: PyYAML>=6.0.1 in /usr/local/lib/python3.10/dist-packages (from llama-index-core==0.10.48->llama-index) (6.0.1)\n",
            "Requirement already satisfied: SQLAlchemy[asyncio]>=1.4.49 in /usr/local/lib/python3.10/dist-packages (from llama-index-core==0.10.48->llama-index) (2.0.30)\n",
            "Requirement already satisfied: aiohttp<4.0.0,>=3.8.6 in /usr/local/lib/python3.10/dist-packages (from llama-index-core==0.10.48->llama-index) (3.9.5)\n",
            "Requirement already satisfied: dataclasses-json in /usr/local/lib/python3.10/dist-packages (from llama-index-core==0.10.48->llama-index) (0.6.7)\n",
            "Requirement already satisfied: deprecated>=1.2.9.3 in /usr/local/lib/python3.10/dist-packages (from llama-index-core==0.10.48->llama-index) (1.2.14)\n",
            "Requirement already satisfied: dirtyjson<2.0.0,>=1.0.8 in /usr/local/lib/python3.10/dist-packages (from llama-index-core==0.10.48->llama-index) (1.0.8)\n",
            "Requirement already satisfied: fsspec>=2023.5.0 in /usr/local/lib/python3.10/dist-packages (from llama-index-core==0.10.48->llama-index) (2023.6.0)\n",
            "Requirement already satisfied: httpx in /usr/local/lib/python3.10/dist-packages (from llama-index-core==0.10.48->llama-index) (0.27.0)\n",
            "Requirement already satisfied: llamaindex-py-client<0.2.0,>=0.1.18 in /usr/local/lib/python3.10/dist-packages (from llama-index-core==0.10.48->llama-index) (0.1.19)\n",
            "Requirement already satisfied: nest-asyncio<2.0.0,>=1.5.8 in /usr/local/lib/python3.10/dist-packages (from llama-index-core==0.10.48->llama-index) (1.6.0)\n",
            "Requirement already satisfied: networkx>=3.0 in /usr/local/lib/python3.10/dist-packages (from llama-index-core==0.10.48->llama-index) (3.3)\n",
            "Requirement already satisfied: nltk<4.0.0,>=3.8.1 in /usr/local/lib/python3.10/dist-packages (from llama-index-core==0.10.48->llama-index) (3.8.1)\n",
            "Requirement already satisfied: numpy<2.0.0 in /usr/local/lib/python3.10/dist-packages (from llama-index-core==0.10.48->llama-index) (1.25.2)\n",
            "Requirement already satisfied: openai>=1.1.0 in /usr/local/lib/python3.10/dist-packages (from llama-index-core==0.10.48->llama-index) (1.35.3)\n",
            "Requirement already satisfied: pandas in /usr/local/lib/python3.10/dist-packages (from llama-index-core==0.10.48->llama-index) (2.0.3)\n",
            "Requirement already satisfied: pillow>=9.0.0 in /usr/local/lib/python3.10/dist-packages (from llama-index-core==0.10.48->llama-index) (9.4.0)\n",
            "Requirement already satisfied: requests>=2.31.0 in /usr/local/lib/python3.10/dist-packages (from llama-index-core==0.10.48->llama-index) (2.31.0)\n",
            "Requirement already satisfied: tenacity!=8.4.0,<9.0.0,>=8.2.0 in /usr/local/lib/python3.10/dist-packages (from llama-index-core==0.10.48->llama-index) (8.4.1)\n",
            "Requirement already satisfied: tiktoken>=0.3.3 in /usr/local/lib/python3.10/dist-packages (from llama-index-core==0.10.48->llama-index) (0.7.0)\n",
            "Requirement already satisfied: tqdm<5.0.0,>=4.66.1 in /usr/local/lib/python3.10/dist-packages (from llama-index-core==0.10.48->llama-index) (4.66.4)\n",
            "Requirement already satisfied: typing-extensions>=4.5.0 in /usr/local/lib/python3.10/dist-packages (from llama-index-core==0.10.48->llama-index) (4.12.2)\n",
            "Requirement already satisfied: typing-inspect>=0.8.0 in /usr/local/lib/python3.10/dist-packages (from llama-index-core==0.10.48->llama-index) (0.9.0)\n",
            "Requirement already satisfied: wrapt in /usr/local/lib/python3.10/dist-packages (from llama-index-core==0.10.48->llama-index) (1.14.1)\n",
            "Requirement already satisfied: beautifulsoup4<5.0.0,>=4.12.3 in /usr/local/lib/python3.10/dist-packages (from llama-index-readers-file<0.2.0,>=0.1.4->llama-index) (4.12.3)\n",
            "Requirement already satisfied: pypdf<5.0.0,>=4.0.1 in /usr/local/lib/python3.10/dist-packages (from llama-index-readers-file<0.2.0,>=0.1.4->llama-index) (4.2.0)\n",
            "Requirement already satisfied: striprtf<0.0.27,>=0.0.26 in /usr/local/lib/python3.10/dist-packages (from llama-index-readers-file<0.2.0,>=0.1.4->llama-index) (0.0.26)\n",
            "Requirement already satisfied: llama-parse<0.5.0,>=0.4.0 in /usr/local/lib/python3.10/dist-packages (from llama-index-readers-llama-parse<0.2.0,>=0.1.2->llama-index) (0.4.4)\n",
            "Requirement already satisfied: aiosignal>=1.1.2 in /usr/local/lib/python3.10/dist-packages (from aiohttp<4.0.0,>=3.8.6->llama-index-core==0.10.48->llama-index) (1.3.1)\n",
            "Requirement already satisfied: attrs>=17.3.0 in /usr/local/lib/python3.10/dist-packages (from aiohttp<4.0.0,>=3.8.6->llama-index-core==0.10.48->llama-index) (23.2.0)\n",
            "Requirement already satisfied: frozenlist>=1.1.1 in /usr/local/lib/python3.10/dist-packages (from aiohttp<4.0.0,>=3.8.6->llama-index-core==0.10.48->llama-index) (1.4.1)\n",
            "Requirement already satisfied: multidict<7.0,>=4.5 in /usr/local/lib/python3.10/dist-packages (from aiohttp<4.0.0,>=3.8.6->llama-index-core==0.10.48->llama-index) (6.0.5)\n",
            "Requirement already satisfied: yarl<2.0,>=1.0 in /usr/local/lib/python3.10/dist-packages (from aiohttp<4.0.0,>=3.8.6->llama-index-core==0.10.48->llama-index) (1.9.4)\n",
            "Requirement already satisfied: async-timeout<5.0,>=4.0 in /usr/local/lib/python3.10/dist-packages (from aiohttp<4.0.0,>=3.8.6->llama-index-core==0.10.48->llama-index) (4.0.3)\n",
            "Requirement already satisfied: soupsieve>1.2 in /usr/local/lib/python3.10/dist-packages (from beautifulsoup4<5.0.0,>=4.12.3->llama-index-readers-file<0.2.0,>=0.1.4->llama-index) (2.5)\n",
            "Requirement already satisfied: pydantic>=1.10 in /usr/local/lib/python3.10/dist-packages (from llamaindex-py-client<0.2.0,>=0.1.18->llama-index-core==0.10.48->llama-index) (2.7.4)\n",
            "Requirement already satisfied: anyio in /usr/local/lib/python3.10/dist-packages (from httpx->llama-index-core==0.10.48->llama-index) (3.7.1)\n",
            "Requirement already satisfied: certifi in /usr/local/lib/python3.10/dist-packages (from httpx->llama-index-core==0.10.48->llama-index) (2024.6.2)\n",
            "Requirement already satisfied: httpcore==1.* in /usr/local/lib/python3.10/dist-packages (from httpx->llama-index-core==0.10.48->llama-index) (1.0.5)\n",
            "Requirement already satisfied: idna in /usr/local/lib/python3.10/dist-packages (from httpx->llama-index-core==0.10.48->llama-index) (3.7)\n",
            "Requirement already satisfied: sniffio in /usr/local/lib/python3.10/dist-packages (from httpx->llama-index-core==0.10.48->llama-index) (1.3.1)\n",
            "Requirement already satisfied: h11<0.15,>=0.13 in /usr/local/lib/python3.10/dist-packages (from httpcore==1.*->httpx->llama-index-core==0.10.48->llama-index) (0.14.0)\n",
            "Requirement already satisfied: click in /usr/local/lib/python3.10/dist-packages (from nltk<4.0.0,>=3.8.1->llama-index-core==0.10.48->llama-index) (8.1.7)\n",
            "Requirement already satisfied: joblib in /usr/local/lib/python3.10/dist-packages (from nltk<4.0.0,>=3.8.1->llama-index-core==0.10.48->llama-index) (1.4.2)\n",
            "Requirement already satisfied: regex>=2021.8.3 in /usr/local/lib/python3.10/dist-packages (from nltk<4.0.0,>=3.8.1->llama-index-core==0.10.48->llama-index) (2024.5.15)\n",
            "Requirement already satisfied: distro<2,>=1.7.0 in /usr/lib/python3/dist-packages (from openai>=1.1.0->llama-index-core==0.10.48->llama-index) (1.7.0)\n",
            "Requirement already satisfied: charset-normalizer<4,>=2 in /usr/local/lib/python3.10/dist-packages (from requests>=2.31.0->llama-index-core==0.10.48->llama-index) (3.3.2)\n",
            "Requirement already satisfied: urllib3<3,>=1.21.1 in /usr/local/lib/python3.10/dist-packages (from requests>=2.31.0->llama-index-core==0.10.48->llama-index) (2.0.7)\n",
            "Requirement already satisfied: greenlet!=0.4.17 in /usr/local/lib/python3.10/dist-packages (from SQLAlchemy[asyncio]>=1.4.49->llama-index-core==0.10.48->llama-index) (3.0.3)\n",
            "Requirement already satisfied: mypy-extensions>=0.3.0 in /usr/local/lib/python3.10/dist-packages (from typing-inspect>=0.8.0->llama-index-core==0.10.48->llama-index) (1.0.0)\n",
            "Requirement already satisfied: marshmallow<4.0.0,>=3.18.0 in /usr/local/lib/python3.10/dist-packages (from dataclasses-json->llama-index-core==0.10.48->llama-index) (3.21.3)\n",
            "Requirement already satisfied: python-dateutil>=2.8.2 in /usr/local/lib/python3.10/dist-packages (from pandas->llama-index-core==0.10.48->llama-index) (2.8.2)\n",
            "Requirement already satisfied: pytz>=2020.1 in /usr/local/lib/python3.10/dist-packages (from pandas->llama-index-core==0.10.48->llama-index) (2023.4)\n",
            "Requirement already satisfied: tzdata>=2022.1 in /usr/local/lib/python3.10/dist-packages (from pandas->llama-index-core==0.10.48->llama-index) (2024.1)\n",
            "Requirement already satisfied: exceptiongroup in /usr/local/lib/python3.10/dist-packages (from anyio->httpx->llama-index-core==0.10.48->llama-index) (1.2.1)\n",
            "Requirement already satisfied: packaging>=17.0 in /usr/local/lib/python3.10/dist-packages (from marshmallow<4.0.0,>=3.18.0->dataclasses-json->llama-index-core==0.10.48->llama-index) (24.1)\n",
            "Requirement already satisfied: annotated-types>=0.4.0 in /usr/local/lib/python3.10/dist-packages (from pydantic>=1.10->llamaindex-py-client<0.2.0,>=0.1.18->llama-index-core==0.10.48->llama-index) (0.7.0)\n",
            "Requirement already satisfied: pydantic-core==2.18.4 in /usr/local/lib/python3.10/dist-packages (from pydantic>=1.10->llamaindex-py-client<0.2.0,>=0.1.18->llama-index-core==0.10.48->llama-index) (2.18.4)\n",
            "Requirement already satisfied: six>=1.5 in /usr/local/lib/python3.10/dist-packages (from python-dateutil>=2.8.2->pandas->llama-index-core==0.10.48->llama-index) (1.16.0)\n"
          ]
        }
      ]
    },
    {
      "cell_type": "code",
      "source": [
        "%pip install llama-index-llms-mistralai"
      ],
      "metadata": {
        "colab": {
          "base_uri": "https://localhost:8080/"
        },
        "id": "aW7Ev6z9EF2I",
        "outputId": "000f83c5-8e29-4e11-fdb9-05cd60cfa520"
      },
      "execution_count": 14,
      "outputs": [
        {
          "output_type": "stream",
          "name": "stdout",
          "text": [
            "Requirement already satisfied: llama-index-llms-mistralai in /usr/local/lib/python3.10/dist-packages (0.1.16)\n",
            "Requirement already satisfied: llama-index-core<0.11.0,>=0.10.39 in /usr/local/lib/python3.10/dist-packages (from llama-index-llms-mistralai) (0.10.48)\n",
            "Requirement already satisfied: mistralai>=0.4.0 in /usr/local/lib/python3.10/dist-packages (from llama-index-llms-mistralai) (0.4.1)\n",
            "Requirement already satisfied: PyYAML>=6.0.1 in /usr/local/lib/python3.10/dist-packages (from llama-index-core<0.11.0,>=0.10.39->llama-index-llms-mistralai) (6.0.1)\n",
            "Requirement already satisfied: SQLAlchemy[asyncio]>=1.4.49 in /usr/local/lib/python3.10/dist-packages (from llama-index-core<0.11.0,>=0.10.39->llama-index-llms-mistralai) (2.0.30)\n",
            "Requirement already satisfied: aiohttp<4.0.0,>=3.8.6 in /usr/local/lib/python3.10/dist-packages (from llama-index-core<0.11.0,>=0.10.39->llama-index-llms-mistralai) (3.9.5)\n",
            "Requirement already satisfied: dataclasses-json in /usr/local/lib/python3.10/dist-packages (from llama-index-core<0.11.0,>=0.10.39->llama-index-llms-mistralai) (0.6.7)\n",
            "Requirement already satisfied: deprecated>=1.2.9.3 in /usr/local/lib/python3.10/dist-packages (from llama-index-core<0.11.0,>=0.10.39->llama-index-llms-mistralai) (1.2.14)\n",
            "Requirement already satisfied: dirtyjson<2.0.0,>=1.0.8 in /usr/local/lib/python3.10/dist-packages (from llama-index-core<0.11.0,>=0.10.39->llama-index-llms-mistralai) (1.0.8)\n",
            "Requirement already satisfied: fsspec>=2023.5.0 in /usr/local/lib/python3.10/dist-packages (from llama-index-core<0.11.0,>=0.10.39->llama-index-llms-mistralai) (2023.6.0)\n",
            "Requirement already satisfied: httpx in /usr/local/lib/python3.10/dist-packages (from llama-index-core<0.11.0,>=0.10.39->llama-index-llms-mistralai) (0.27.0)\n",
            "Requirement already satisfied: llamaindex-py-client<0.2.0,>=0.1.18 in /usr/local/lib/python3.10/dist-packages (from llama-index-core<0.11.0,>=0.10.39->llama-index-llms-mistralai) (0.1.19)\n",
            "Requirement already satisfied: nest-asyncio<2.0.0,>=1.5.8 in /usr/local/lib/python3.10/dist-packages (from llama-index-core<0.11.0,>=0.10.39->llama-index-llms-mistralai) (1.6.0)\n",
            "Requirement already satisfied: networkx>=3.0 in /usr/local/lib/python3.10/dist-packages (from llama-index-core<0.11.0,>=0.10.39->llama-index-llms-mistralai) (3.3)\n",
            "Requirement already satisfied: nltk<4.0.0,>=3.8.1 in /usr/local/lib/python3.10/dist-packages (from llama-index-core<0.11.0,>=0.10.39->llama-index-llms-mistralai) (3.8.1)\n",
            "Requirement already satisfied: numpy<2.0.0 in /usr/local/lib/python3.10/dist-packages (from llama-index-core<0.11.0,>=0.10.39->llama-index-llms-mistralai) (1.25.2)\n",
            "Requirement already satisfied: openai>=1.1.0 in /usr/local/lib/python3.10/dist-packages (from llama-index-core<0.11.0,>=0.10.39->llama-index-llms-mistralai) (1.35.3)\n",
            "Requirement already satisfied: pandas in /usr/local/lib/python3.10/dist-packages (from llama-index-core<0.11.0,>=0.10.39->llama-index-llms-mistralai) (2.0.3)\n",
            "Requirement already satisfied: pillow>=9.0.0 in /usr/local/lib/python3.10/dist-packages (from llama-index-core<0.11.0,>=0.10.39->llama-index-llms-mistralai) (9.4.0)\n",
            "Requirement already satisfied: requests>=2.31.0 in /usr/local/lib/python3.10/dist-packages (from llama-index-core<0.11.0,>=0.10.39->llama-index-llms-mistralai) (2.31.0)\n",
            "Requirement already satisfied: tenacity!=8.4.0,<9.0.0,>=8.2.0 in /usr/local/lib/python3.10/dist-packages (from llama-index-core<0.11.0,>=0.10.39->llama-index-llms-mistralai) (8.4.1)\n",
            "Requirement already satisfied: tiktoken>=0.3.3 in /usr/local/lib/python3.10/dist-packages (from llama-index-core<0.11.0,>=0.10.39->llama-index-llms-mistralai) (0.7.0)\n",
            "Requirement already satisfied: tqdm<5.0.0,>=4.66.1 in /usr/local/lib/python3.10/dist-packages (from llama-index-core<0.11.0,>=0.10.39->llama-index-llms-mistralai) (4.66.4)\n",
            "Requirement already satisfied: typing-extensions>=4.5.0 in /usr/local/lib/python3.10/dist-packages (from llama-index-core<0.11.0,>=0.10.39->llama-index-llms-mistralai) (4.12.2)\n",
            "Requirement already satisfied: typing-inspect>=0.8.0 in /usr/local/lib/python3.10/dist-packages (from llama-index-core<0.11.0,>=0.10.39->llama-index-llms-mistralai) (0.9.0)\n",
            "Requirement already satisfied: wrapt in /usr/local/lib/python3.10/dist-packages (from llama-index-core<0.11.0,>=0.10.39->llama-index-llms-mistralai) (1.14.1)\n",
            "Requirement already satisfied: orjson<3.11,>=3.9.10 in /usr/local/lib/python3.10/dist-packages (from mistralai>=0.4.0->llama-index-llms-mistralai) (3.10.5)\n",
            "Requirement already satisfied: pydantic<3,>=2.5.2 in /usr/local/lib/python3.10/dist-packages (from mistralai>=0.4.0->llama-index-llms-mistralai) (2.7.4)\n",
            "Requirement already satisfied: aiosignal>=1.1.2 in /usr/local/lib/python3.10/dist-packages (from aiohttp<4.0.0,>=3.8.6->llama-index-core<0.11.0,>=0.10.39->llama-index-llms-mistralai) (1.3.1)\n",
            "Requirement already satisfied: attrs>=17.3.0 in /usr/local/lib/python3.10/dist-packages (from aiohttp<4.0.0,>=3.8.6->llama-index-core<0.11.0,>=0.10.39->llama-index-llms-mistralai) (23.2.0)\n",
            "Requirement already satisfied: frozenlist>=1.1.1 in /usr/local/lib/python3.10/dist-packages (from aiohttp<4.0.0,>=3.8.6->llama-index-core<0.11.0,>=0.10.39->llama-index-llms-mistralai) (1.4.1)\n",
            "Requirement already satisfied: multidict<7.0,>=4.5 in /usr/local/lib/python3.10/dist-packages (from aiohttp<4.0.0,>=3.8.6->llama-index-core<0.11.0,>=0.10.39->llama-index-llms-mistralai) (6.0.5)\n",
            "Requirement already satisfied: yarl<2.0,>=1.0 in /usr/local/lib/python3.10/dist-packages (from aiohttp<4.0.0,>=3.8.6->llama-index-core<0.11.0,>=0.10.39->llama-index-llms-mistralai) (1.9.4)\n",
            "Requirement already satisfied: async-timeout<5.0,>=4.0 in /usr/local/lib/python3.10/dist-packages (from aiohttp<4.0.0,>=3.8.6->llama-index-core<0.11.0,>=0.10.39->llama-index-llms-mistralai) (4.0.3)\n",
            "Requirement already satisfied: anyio in /usr/local/lib/python3.10/dist-packages (from httpx->llama-index-core<0.11.0,>=0.10.39->llama-index-llms-mistralai) (3.7.1)\n",
            "Requirement already satisfied: certifi in /usr/local/lib/python3.10/dist-packages (from httpx->llama-index-core<0.11.0,>=0.10.39->llama-index-llms-mistralai) (2024.6.2)\n",
            "Requirement already satisfied: httpcore==1.* in /usr/local/lib/python3.10/dist-packages (from httpx->llama-index-core<0.11.0,>=0.10.39->llama-index-llms-mistralai) (1.0.5)\n",
            "Requirement already satisfied: idna in /usr/local/lib/python3.10/dist-packages (from httpx->llama-index-core<0.11.0,>=0.10.39->llama-index-llms-mistralai) (3.7)\n",
            "Requirement already satisfied: sniffio in /usr/local/lib/python3.10/dist-packages (from httpx->llama-index-core<0.11.0,>=0.10.39->llama-index-llms-mistralai) (1.3.1)\n",
            "Requirement already satisfied: h11<0.15,>=0.13 in /usr/local/lib/python3.10/dist-packages (from httpcore==1.*->httpx->llama-index-core<0.11.0,>=0.10.39->llama-index-llms-mistralai) (0.14.0)\n",
            "Requirement already satisfied: click in /usr/local/lib/python3.10/dist-packages (from nltk<4.0.0,>=3.8.1->llama-index-core<0.11.0,>=0.10.39->llama-index-llms-mistralai) (8.1.7)\n",
            "Requirement already satisfied: joblib in /usr/local/lib/python3.10/dist-packages (from nltk<4.0.0,>=3.8.1->llama-index-core<0.11.0,>=0.10.39->llama-index-llms-mistralai) (1.4.2)\n",
            "Requirement already satisfied: regex>=2021.8.3 in /usr/local/lib/python3.10/dist-packages (from nltk<4.0.0,>=3.8.1->llama-index-core<0.11.0,>=0.10.39->llama-index-llms-mistralai) (2024.5.15)\n",
            "Requirement already satisfied: distro<2,>=1.7.0 in /usr/lib/python3/dist-packages (from openai>=1.1.0->llama-index-core<0.11.0,>=0.10.39->llama-index-llms-mistralai) (1.7.0)\n",
            "Requirement already satisfied: annotated-types>=0.4.0 in /usr/local/lib/python3.10/dist-packages (from pydantic<3,>=2.5.2->mistralai>=0.4.0->llama-index-llms-mistralai) (0.7.0)\n",
            "Requirement already satisfied: pydantic-core==2.18.4 in /usr/local/lib/python3.10/dist-packages (from pydantic<3,>=2.5.2->mistralai>=0.4.0->llama-index-llms-mistralai) (2.18.4)\n",
            "Requirement already satisfied: charset-normalizer<4,>=2 in /usr/local/lib/python3.10/dist-packages (from requests>=2.31.0->llama-index-core<0.11.0,>=0.10.39->llama-index-llms-mistralai) (3.3.2)\n",
            "Requirement already satisfied: urllib3<3,>=1.21.1 in /usr/local/lib/python3.10/dist-packages (from requests>=2.31.0->llama-index-core<0.11.0,>=0.10.39->llama-index-llms-mistralai) (2.0.7)\n",
            "Requirement already satisfied: greenlet!=0.4.17 in /usr/local/lib/python3.10/dist-packages (from SQLAlchemy[asyncio]>=1.4.49->llama-index-core<0.11.0,>=0.10.39->llama-index-llms-mistralai) (3.0.3)\n",
            "Requirement already satisfied: mypy-extensions>=0.3.0 in /usr/local/lib/python3.10/dist-packages (from typing-inspect>=0.8.0->llama-index-core<0.11.0,>=0.10.39->llama-index-llms-mistralai) (1.0.0)\n",
            "Requirement already satisfied: marshmallow<4.0.0,>=3.18.0 in /usr/local/lib/python3.10/dist-packages (from dataclasses-json->llama-index-core<0.11.0,>=0.10.39->llama-index-llms-mistralai) (3.21.3)\n",
            "Requirement already satisfied: python-dateutil>=2.8.2 in /usr/local/lib/python3.10/dist-packages (from pandas->llama-index-core<0.11.0,>=0.10.39->llama-index-llms-mistralai) (2.8.2)\n",
            "Requirement already satisfied: pytz>=2020.1 in /usr/local/lib/python3.10/dist-packages (from pandas->llama-index-core<0.11.0,>=0.10.39->llama-index-llms-mistralai) (2023.4)\n",
            "Requirement already satisfied: tzdata>=2022.1 in /usr/local/lib/python3.10/dist-packages (from pandas->llama-index-core<0.11.0,>=0.10.39->llama-index-llms-mistralai) (2024.1)\n",
            "Requirement already satisfied: exceptiongroup in /usr/local/lib/python3.10/dist-packages (from anyio->httpx->llama-index-core<0.11.0,>=0.10.39->llama-index-llms-mistralai) (1.2.1)\n",
            "Requirement already satisfied: packaging>=17.0 in /usr/local/lib/python3.10/dist-packages (from marshmallow<4.0.0,>=3.18.0->dataclasses-json->llama-index-core<0.11.0,>=0.10.39->llama-index-llms-mistralai) (24.1)\n",
            "Requirement already satisfied: six>=1.5 in /usr/local/lib/python3.10/dist-packages (from python-dateutil>=2.8.2->pandas->llama-index-core<0.11.0,>=0.10.39->llama-index-llms-mistralai) (1.16.0)\n"
          ]
        }
      ]
    },
    {
      "cell_type": "code",
      "source": [
        "%pip install llama-index-embeddings-mistralai"
      ],
      "metadata": {
        "colab": {
          "base_uri": "https://localhost:8080/"
        },
        "id": "ieZnjFJwEchg",
        "outputId": "1f46d1cc-4cb4-4774-f136-efe249cd8287"
      },
      "execution_count": 15,
      "outputs": [
        {
          "output_type": "stream",
          "name": "stdout",
          "text": [
            "Requirement already satisfied: llama-index-embeddings-mistralai in /usr/local/lib/python3.10/dist-packages (0.1.4)\n",
            "Requirement already satisfied: llama-index-core<0.11.0,>=0.10.1 in /usr/local/lib/python3.10/dist-packages (from llama-index-embeddings-mistralai) (0.10.48)\n",
            "Requirement already satisfied: mistralai>=0.1.3 in /usr/local/lib/python3.10/dist-packages (from llama-index-embeddings-mistralai) (0.4.1)\n",
            "Requirement already satisfied: PyYAML>=6.0.1 in /usr/local/lib/python3.10/dist-packages (from llama-index-core<0.11.0,>=0.10.1->llama-index-embeddings-mistralai) (6.0.1)\n",
            "Requirement already satisfied: SQLAlchemy[asyncio]>=1.4.49 in /usr/local/lib/python3.10/dist-packages (from llama-index-core<0.11.0,>=0.10.1->llama-index-embeddings-mistralai) (2.0.30)\n",
            "Requirement already satisfied: aiohttp<4.0.0,>=3.8.6 in /usr/local/lib/python3.10/dist-packages (from llama-index-core<0.11.0,>=0.10.1->llama-index-embeddings-mistralai) (3.9.5)\n",
            "Requirement already satisfied: dataclasses-json in /usr/local/lib/python3.10/dist-packages (from llama-index-core<0.11.0,>=0.10.1->llama-index-embeddings-mistralai) (0.6.7)\n",
            "Requirement already satisfied: deprecated>=1.2.9.3 in /usr/local/lib/python3.10/dist-packages (from llama-index-core<0.11.0,>=0.10.1->llama-index-embeddings-mistralai) (1.2.14)\n",
            "Requirement already satisfied: dirtyjson<2.0.0,>=1.0.8 in /usr/local/lib/python3.10/dist-packages (from llama-index-core<0.11.0,>=0.10.1->llama-index-embeddings-mistralai) (1.0.8)\n",
            "Requirement already satisfied: fsspec>=2023.5.0 in /usr/local/lib/python3.10/dist-packages (from llama-index-core<0.11.0,>=0.10.1->llama-index-embeddings-mistralai) (2023.6.0)\n",
            "Requirement already satisfied: httpx in /usr/local/lib/python3.10/dist-packages (from llama-index-core<0.11.0,>=0.10.1->llama-index-embeddings-mistralai) (0.27.0)\n",
            "Requirement already satisfied: llamaindex-py-client<0.2.0,>=0.1.18 in /usr/local/lib/python3.10/dist-packages (from llama-index-core<0.11.0,>=0.10.1->llama-index-embeddings-mistralai) (0.1.19)\n",
            "Requirement already satisfied: nest-asyncio<2.0.0,>=1.5.8 in /usr/local/lib/python3.10/dist-packages (from llama-index-core<0.11.0,>=0.10.1->llama-index-embeddings-mistralai) (1.6.0)\n",
            "Requirement already satisfied: networkx>=3.0 in /usr/local/lib/python3.10/dist-packages (from llama-index-core<0.11.0,>=0.10.1->llama-index-embeddings-mistralai) (3.3)\n",
            "Requirement already satisfied: nltk<4.0.0,>=3.8.1 in /usr/local/lib/python3.10/dist-packages (from llama-index-core<0.11.0,>=0.10.1->llama-index-embeddings-mistralai) (3.8.1)\n",
            "Requirement already satisfied: numpy<2.0.0 in /usr/local/lib/python3.10/dist-packages (from llama-index-core<0.11.0,>=0.10.1->llama-index-embeddings-mistralai) (1.25.2)\n",
            "Requirement already satisfied: openai>=1.1.0 in /usr/local/lib/python3.10/dist-packages (from llama-index-core<0.11.0,>=0.10.1->llama-index-embeddings-mistralai) (1.35.3)\n",
            "Requirement already satisfied: pandas in /usr/local/lib/python3.10/dist-packages (from llama-index-core<0.11.0,>=0.10.1->llama-index-embeddings-mistralai) (2.0.3)\n",
            "Requirement already satisfied: pillow>=9.0.0 in /usr/local/lib/python3.10/dist-packages (from llama-index-core<0.11.0,>=0.10.1->llama-index-embeddings-mistralai) (9.4.0)\n",
            "Requirement already satisfied: requests>=2.31.0 in /usr/local/lib/python3.10/dist-packages (from llama-index-core<0.11.0,>=0.10.1->llama-index-embeddings-mistralai) (2.31.0)\n",
            "Requirement already satisfied: tenacity!=8.4.0,<9.0.0,>=8.2.0 in /usr/local/lib/python3.10/dist-packages (from llama-index-core<0.11.0,>=0.10.1->llama-index-embeddings-mistralai) (8.4.1)\n",
            "Requirement already satisfied: tiktoken>=0.3.3 in /usr/local/lib/python3.10/dist-packages (from llama-index-core<0.11.0,>=0.10.1->llama-index-embeddings-mistralai) (0.7.0)\n",
            "Requirement already satisfied: tqdm<5.0.0,>=4.66.1 in /usr/local/lib/python3.10/dist-packages (from llama-index-core<0.11.0,>=0.10.1->llama-index-embeddings-mistralai) (4.66.4)\n",
            "Requirement already satisfied: typing-extensions>=4.5.0 in /usr/local/lib/python3.10/dist-packages (from llama-index-core<0.11.0,>=0.10.1->llama-index-embeddings-mistralai) (4.12.2)\n",
            "Requirement already satisfied: typing-inspect>=0.8.0 in /usr/local/lib/python3.10/dist-packages (from llama-index-core<0.11.0,>=0.10.1->llama-index-embeddings-mistralai) (0.9.0)\n",
            "Requirement already satisfied: wrapt in /usr/local/lib/python3.10/dist-packages (from llama-index-core<0.11.0,>=0.10.1->llama-index-embeddings-mistralai) (1.14.1)\n",
            "Requirement already satisfied: orjson<3.11,>=3.9.10 in /usr/local/lib/python3.10/dist-packages (from mistralai>=0.1.3->llama-index-embeddings-mistralai) (3.10.5)\n",
            "Requirement already satisfied: pydantic<3,>=2.5.2 in /usr/local/lib/python3.10/dist-packages (from mistralai>=0.1.3->llama-index-embeddings-mistralai) (2.7.4)\n",
            "Requirement already satisfied: aiosignal>=1.1.2 in /usr/local/lib/python3.10/dist-packages (from aiohttp<4.0.0,>=3.8.6->llama-index-core<0.11.0,>=0.10.1->llama-index-embeddings-mistralai) (1.3.1)\n",
            "Requirement already satisfied: attrs>=17.3.0 in /usr/local/lib/python3.10/dist-packages (from aiohttp<4.0.0,>=3.8.6->llama-index-core<0.11.0,>=0.10.1->llama-index-embeddings-mistralai) (23.2.0)\n",
            "Requirement already satisfied: frozenlist>=1.1.1 in /usr/local/lib/python3.10/dist-packages (from aiohttp<4.0.0,>=3.8.6->llama-index-core<0.11.0,>=0.10.1->llama-index-embeddings-mistralai) (1.4.1)\n",
            "Requirement already satisfied: multidict<7.0,>=4.5 in /usr/local/lib/python3.10/dist-packages (from aiohttp<4.0.0,>=3.8.6->llama-index-core<0.11.0,>=0.10.1->llama-index-embeddings-mistralai) (6.0.5)\n",
            "Requirement already satisfied: yarl<2.0,>=1.0 in /usr/local/lib/python3.10/dist-packages (from aiohttp<4.0.0,>=3.8.6->llama-index-core<0.11.0,>=0.10.1->llama-index-embeddings-mistralai) (1.9.4)\n",
            "Requirement already satisfied: async-timeout<5.0,>=4.0 in /usr/local/lib/python3.10/dist-packages (from aiohttp<4.0.0,>=3.8.6->llama-index-core<0.11.0,>=0.10.1->llama-index-embeddings-mistralai) (4.0.3)\n",
            "Requirement already satisfied: anyio in /usr/local/lib/python3.10/dist-packages (from httpx->llama-index-core<0.11.0,>=0.10.1->llama-index-embeddings-mistralai) (3.7.1)\n",
            "Requirement already satisfied: certifi in /usr/local/lib/python3.10/dist-packages (from httpx->llama-index-core<0.11.0,>=0.10.1->llama-index-embeddings-mistralai) (2024.6.2)\n",
            "Requirement already satisfied: httpcore==1.* in /usr/local/lib/python3.10/dist-packages (from httpx->llama-index-core<0.11.0,>=0.10.1->llama-index-embeddings-mistralai) (1.0.5)\n",
            "Requirement already satisfied: idna in /usr/local/lib/python3.10/dist-packages (from httpx->llama-index-core<0.11.0,>=0.10.1->llama-index-embeddings-mistralai) (3.7)\n",
            "Requirement already satisfied: sniffio in /usr/local/lib/python3.10/dist-packages (from httpx->llama-index-core<0.11.0,>=0.10.1->llama-index-embeddings-mistralai) (1.3.1)\n",
            "Requirement already satisfied: h11<0.15,>=0.13 in /usr/local/lib/python3.10/dist-packages (from httpcore==1.*->httpx->llama-index-core<0.11.0,>=0.10.1->llama-index-embeddings-mistralai) (0.14.0)\n",
            "Requirement already satisfied: click in /usr/local/lib/python3.10/dist-packages (from nltk<4.0.0,>=3.8.1->llama-index-core<0.11.0,>=0.10.1->llama-index-embeddings-mistralai) (8.1.7)\n",
            "Requirement already satisfied: joblib in /usr/local/lib/python3.10/dist-packages (from nltk<4.0.0,>=3.8.1->llama-index-core<0.11.0,>=0.10.1->llama-index-embeddings-mistralai) (1.4.2)\n",
            "Requirement already satisfied: regex>=2021.8.3 in /usr/local/lib/python3.10/dist-packages (from nltk<4.0.0,>=3.8.1->llama-index-core<0.11.0,>=0.10.1->llama-index-embeddings-mistralai) (2024.5.15)\n",
            "Requirement already satisfied: distro<2,>=1.7.0 in /usr/lib/python3/dist-packages (from openai>=1.1.0->llama-index-core<0.11.0,>=0.10.1->llama-index-embeddings-mistralai) (1.7.0)\n",
            "Requirement already satisfied: annotated-types>=0.4.0 in /usr/local/lib/python3.10/dist-packages (from pydantic<3,>=2.5.2->mistralai>=0.1.3->llama-index-embeddings-mistralai) (0.7.0)\n",
            "Requirement already satisfied: pydantic-core==2.18.4 in /usr/local/lib/python3.10/dist-packages (from pydantic<3,>=2.5.2->mistralai>=0.1.3->llama-index-embeddings-mistralai) (2.18.4)\n",
            "Requirement already satisfied: charset-normalizer<4,>=2 in /usr/local/lib/python3.10/dist-packages (from requests>=2.31.0->llama-index-core<0.11.0,>=0.10.1->llama-index-embeddings-mistralai) (3.3.2)\n",
            "Requirement already satisfied: urllib3<3,>=1.21.1 in /usr/local/lib/python3.10/dist-packages (from requests>=2.31.0->llama-index-core<0.11.0,>=0.10.1->llama-index-embeddings-mistralai) (2.0.7)\n",
            "Requirement already satisfied: greenlet!=0.4.17 in /usr/local/lib/python3.10/dist-packages (from SQLAlchemy[asyncio]>=1.4.49->llama-index-core<0.11.0,>=0.10.1->llama-index-embeddings-mistralai) (3.0.3)\n",
            "Requirement already satisfied: mypy-extensions>=0.3.0 in /usr/local/lib/python3.10/dist-packages (from typing-inspect>=0.8.0->llama-index-core<0.11.0,>=0.10.1->llama-index-embeddings-mistralai) (1.0.0)\n",
            "Requirement already satisfied: marshmallow<4.0.0,>=3.18.0 in /usr/local/lib/python3.10/dist-packages (from dataclasses-json->llama-index-core<0.11.0,>=0.10.1->llama-index-embeddings-mistralai) (3.21.3)\n",
            "Requirement already satisfied: python-dateutil>=2.8.2 in /usr/local/lib/python3.10/dist-packages (from pandas->llama-index-core<0.11.0,>=0.10.1->llama-index-embeddings-mistralai) (2.8.2)\n",
            "Requirement already satisfied: pytz>=2020.1 in /usr/local/lib/python3.10/dist-packages (from pandas->llama-index-core<0.11.0,>=0.10.1->llama-index-embeddings-mistralai) (2023.4)\n",
            "Requirement already satisfied: tzdata>=2022.1 in /usr/local/lib/python3.10/dist-packages (from pandas->llama-index-core<0.11.0,>=0.10.1->llama-index-embeddings-mistralai) (2024.1)\n",
            "Requirement already satisfied: exceptiongroup in /usr/local/lib/python3.10/dist-packages (from anyio->httpx->llama-index-core<0.11.0,>=0.10.1->llama-index-embeddings-mistralai) (1.2.1)\n",
            "Requirement already satisfied: packaging>=17.0 in /usr/local/lib/python3.10/dist-packages (from marshmallow<4.0.0,>=3.18.0->dataclasses-json->llama-index-core<0.11.0,>=0.10.1->llama-index-embeddings-mistralai) (24.1)\n",
            "Requirement already satisfied: six>=1.5 in /usr/local/lib/python3.10/dist-packages (from python-dateutil>=2.8.2->pandas->llama-index-core<0.11.0,>=0.10.1->llama-index-embeddings-mistralai) (1.16.0)\n"
          ]
        }
      ]
    },
    {
      "cell_type": "code",
      "source": [
        "!pip install --upgrade llama-index"
      ],
      "metadata": {
        "colab": {
          "base_uri": "https://localhost:8080/"
        },
        "id": "iINbKwBNE-d2",
        "outputId": "bedb154e-2861-4491-ed0f-5fcd07d36090"
      },
      "execution_count": 16,
      "outputs": [
        {
          "output_type": "stream",
          "name": "stdout",
          "text": [
            "Requirement already satisfied: llama-index in /usr/local/lib/python3.10/dist-packages (0.10.48.post1)\n",
            "Requirement already satisfied: llama-index-agent-openai<0.3.0,>=0.1.4 in /usr/local/lib/python3.10/dist-packages (from llama-index) (0.2.7)\n",
            "Requirement already satisfied: llama-index-cli<0.2.0,>=0.1.2 in /usr/local/lib/python3.10/dist-packages (from llama-index) (0.1.12)\n",
            "Requirement already satisfied: llama-index-core==0.10.48 in /usr/local/lib/python3.10/dist-packages (from llama-index) (0.10.48)\n",
            "Requirement already satisfied: llama-index-embeddings-openai<0.2.0,>=0.1.5 in /usr/local/lib/python3.10/dist-packages (from llama-index) (0.1.10)\n",
            "Requirement already satisfied: llama-index-indices-managed-llama-cloud<0.2.0,>=0.1.2 in /usr/local/lib/python3.10/dist-packages (from llama-index) (0.1.6)\n",
            "Requirement already satisfied: llama-index-legacy<0.10.0,>=0.9.48 in /usr/local/lib/python3.10/dist-packages (from llama-index) (0.9.48)\n",
            "Requirement already satisfied: llama-index-llms-openai<0.2.0,>=0.1.13 in /usr/local/lib/python3.10/dist-packages (from llama-index) (0.1.22)\n",
            "Requirement already satisfied: llama-index-multi-modal-llms-openai<0.2.0,>=0.1.3 in /usr/local/lib/python3.10/dist-packages (from llama-index) (0.1.6)\n",
            "Requirement already satisfied: llama-index-program-openai<0.2.0,>=0.1.3 in /usr/local/lib/python3.10/dist-packages (from llama-index) (0.1.6)\n",
            "Requirement already satisfied: llama-index-question-gen-openai<0.2.0,>=0.1.2 in /usr/local/lib/python3.10/dist-packages (from llama-index) (0.1.3)\n",
            "Requirement already satisfied: llama-index-readers-file<0.2.0,>=0.1.4 in /usr/local/lib/python3.10/dist-packages (from llama-index) (0.1.25)\n",
            "Requirement already satisfied: llama-index-readers-llama-parse<0.2.0,>=0.1.2 in /usr/local/lib/python3.10/dist-packages (from llama-index) (0.1.4)\n",
            "Requirement already satisfied: PyYAML>=6.0.1 in /usr/local/lib/python3.10/dist-packages (from llama-index-core==0.10.48->llama-index) (6.0.1)\n",
            "Requirement already satisfied: SQLAlchemy[asyncio]>=1.4.49 in /usr/local/lib/python3.10/dist-packages (from llama-index-core==0.10.48->llama-index) (2.0.30)\n",
            "Requirement already satisfied: aiohttp<4.0.0,>=3.8.6 in /usr/local/lib/python3.10/dist-packages (from llama-index-core==0.10.48->llama-index) (3.9.5)\n",
            "Requirement already satisfied: dataclasses-json in /usr/local/lib/python3.10/dist-packages (from llama-index-core==0.10.48->llama-index) (0.6.7)\n",
            "Requirement already satisfied: deprecated>=1.2.9.3 in /usr/local/lib/python3.10/dist-packages (from llama-index-core==0.10.48->llama-index) (1.2.14)\n",
            "Requirement already satisfied: dirtyjson<2.0.0,>=1.0.8 in /usr/local/lib/python3.10/dist-packages (from llama-index-core==0.10.48->llama-index) (1.0.8)\n",
            "Requirement already satisfied: fsspec>=2023.5.0 in /usr/local/lib/python3.10/dist-packages (from llama-index-core==0.10.48->llama-index) (2023.6.0)\n",
            "Requirement already satisfied: httpx in /usr/local/lib/python3.10/dist-packages (from llama-index-core==0.10.48->llama-index) (0.27.0)\n",
            "Requirement already satisfied: llamaindex-py-client<0.2.0,>=0.1.18 in /usr/local/lib/python3.10/dist-packages (from llama-index-core==0.10.48->llama-index) (0.1.19)\n",
            "Requirement already satisfied: nest-asyncio<2.0.0,>=1.5.8 in /usr/local/lib/python3.10/dist-packages (from llama-index-core==0.10.48->llama-index) (1.6.0)\n",
            "Requirement already satisfied: networkx>=3.0 in /usr/local/lib/python3.10/dist-packages (from llama-index-core==0.10.48->llama-index) (3.3)\n",
            "Requirement already satisfied: nltk<4.0.0,>=3.8.1 in /usr/local/lib/python3.10/dist-packages (from llama-index-core==0.10.48->llama-index) (3.8.1)\n",
            "Requirement already satisfied: numpy<2.0.0 in /usr/local/lib/python3.10/dist-packages (from llama-index-core==0.10.48->llama-index) (1.25.2)\n",
            "Requirement already satisfied: openai>=1.1.0 in /usr/local/lib/python3.10/dist-packages (from llama-index-core==0.10.48->llama-index) (1.35.3)\n",
            "Requirement already satisfied: pandas in /usr/local/lib/python3.10/dist-packages (from llama-index-core==0.10.48->llama-index) (2.0.3)\n",
            "Requirement already satisfied: pillow>=9.0.0 in /usr/local/lib/python3.10/dist-packages (from llama-index-core==0.10.48->llama-index) (9.4.0)\n",
            "Requirement already satisfied: requests>=2.31.0 in /usr/local/lib/python3.10/dist-packages (from llama-index-core==0.10.48->llama-index) (2.31.0)\n",
            "Requirement already satisfied: tenacity!=8.4.0,<9.0.0,>=8.2.0 in /usr/local/lib/python3.10/dist-packages (from llama-index-core==0.10.48->llama-index) (8.4.1)\n",
            "Requirement already satisfied: tiktoken>=0.3.3 in /usr/local/lib/python3.10/dist-packages (from llama-index-core==0.10.48->llama-index) (0.7.0)\n",
            "Requirement already satisfied: tqdm<5.0.0,>=4.66.1 in /usr/local/lib/python3.10/dist-packages (from llama-index-core==0.10.48->llama-index) (4.66.4)\n",
            "Requirement already satisfied: typing-extensions>=4.5.0 in /usr/local/lib/python3.10/dist-packages (from llama-index-core==0.10.48->llama-index) (4.12.2)\n",
            "Requirement already satisfied: typing-inspect>=0.8.0 in /usr/local/lib/python3.10/dist-packages (from llama-index-core==0.10.48->llama-index) (0.9.0)\n",
            "Requirement already satisfied: wrapt in /usr/local/lib/python3.10/dist-packages (from llama-index-core==0.10.48->llama-index) (1.14.1)\n",
            "Requirement already satisfied: beautifulsoup4<5.0.0,>=4.12.3 in /usr/local/lib/python3.10/dist-packages (from llama-index-readers-file<0.2.0,>=0.1.4->llama-index) (4.12.3)\n",
            "Requirement already satisfied: pypdf<5.0.0,>=4.0.1 in /usr/local/lib/python3.10/dist-packages (from llama-index-readers-file<0.2.0,>=0.1.4->llama-index) (4.2.0)\n",
            "Requirement already satisfied: striprtf<0.0.27,>=0.0.26 in /usr/local/lib/python3.10/dist-packages (from llama-index-readers-file<0.2.0,>=0.1.4->llama-index) (0.0.26)\n",
            "Requirement already satisfied: llama-parse<0.5.0,>=0.4.0 in /usr/local/lib/python3.10/dist-packages (from llama-index-readers-llama-parse<0.2.0,>=0.1.2->llama-index) (0.4.4)\n",
            "Requirement already satisfied: aiosignal>=1.1.2 in /usr/local/lib/python3.10/dist-packages (from aiohttp<4.0.0,>=3.8.6->llama-index-core==0.10.48->llama-index) (1.3.1)\n",
            "Requirement already satisfied: attrs>=17.3.0 in /usr/local/lib/python3.10/dist-packages (from aiohttp<4.0.0,>=3.8.6->llama-index-core==0.10.48->llama-index) (23.2.0)\n",
            "Requirement already satisfied: frozenlist>=1.1.1 in /usr/local/lib/python3.10/dist-packages (from aiohttp<4.0.0,>=3.8.6->llama-index-core==0.10.48->llama-index) (1.4.1)\n",
            "Requirement already satisfied: multidict<7.0,>=4.5 in /usr/local/lib/python3.10/dist-packages (from aiohttp<4.0.0,>=3.8.6->llama-index-core==0.10.48->llama-index) (6.0.5)\n",
            "Requirement already satisfied: yarl<2.0,>=1.0 in /usr/local/lib/python3.10/dist-packages (from aiohttp<4.0.0,>=3.8.6->llama-index-core==0.10.48->llama-index) (1.9.4)\n",
            "Requirement already satisfied: async-timeout<5.0,>=4.0 in /usr/local/lib/python3.10/dist-packages (from aiohttp<4.0.0,>=3.8.6->llama-index-core==0.10.48->llama-index) (4.0.3)\n",
            "Requirement already satisfied: soupsieve>1.2 in /usr/local/lib/python3.10/dist-packages (from beautifulsoup4<5.0.0,>=4.12.3->llama-index-readers-file<0.2.0,>=0.1.4->llama-index) (2.5)\n",
            "Requirement already satisfied: pydantic>=1.10 in /usr/local/lib/python3.10/dist-packages (from llamaindex-py-client<0.2.0,>=0.1.18->llama-index-core==0.10.48->llama-index) (2.7.4)\n",
            "Requirement already satisfied: anyio in /usr/local/lib/python3.10/dist-packages (from httpx->llama-index-core==0.10.48->llama-index) (3.7.1)\n",
            "Requirement already satisfied: certifi in /usr/local/lib/python3.10/dist-packages (from httpx->llama-index-core==0.10.48->llama-index) (2024.6.2)\n",
            "Requirement already satisfied: httpcore==1.* in /usr/local/lib/python3.10/dist-packages (from httpx->llama-index-core==0.10.48->llama-index) (1.0.5)\n",
            "Requirement already satisfied: idna in /usr/local/lib/python3.10/dist-packages (from httpx->llama-index-core==0.10.48->llama-index) (3.7)\n",
            "Requirement already satisfied: sniffio in /usr/local/lib/python3.10/dist-packages (from httpx->llama-index-core==0.10.48->llama-index) (1.3.1)\n",
            "Requirement already satisfied: h11<0.15,>=0.13 in /usr/local/lib/python3.10/dist-packages (from httpcore==1.*->httpx->llama-index-core==0.10.48->llama-index) (0.14.0)\n",
            "Requirement already satisfied: click in /usr/local/lib/python3.10/dist-packages (from nltk<4.0.0,>=3.8.1->llama-index-core==0.10.48->llama-index) (8.1.7)\n",
            "Requirement already satisfied: joblib in /usr/local/lib/python3.10/dist-packages (from nltk<4.0.0,>=3.8.1->llama-index-core==0.10.48->llama-index) (1.4.2)\n",
            "Requirement already satisfied: regex>=2021.8.3 in /usr/local/lib/python3.10/dist-packages (from nltk<4.0.0,>=3.8.1->llama-index-core==0.10.48->llama-index) (2024.5.15)\n",
            "Requirement already satisfied: distro<2,>=1.7.0 in /usr/lib/python3/dist-packages (from openai>=1.1.0->llama-index-core==0.10.48->llama-index) (1.7.0)\n",
            "Requirement already satisfied: charset-normalizer<4,>=2 in /usr/local/lib/python3.10/dist-packages (from requests>=2.31.0->llama-index-core==0.10.48->llama-index) (3.3.2)\n",
            "Requirement already satisfied: urllib3<3,>=1.21.1 in /usr/local/lib/python3.10/dist-packages (from requests>=2.31.0->llama-index-core==0.10.48->llama-index) (2.0.7)\n",
            "Requirement already satisfied: greenlet!=0.4.17 in /usr/local/lib/python3.10/dist-packages (from SQLAlchemy[asyncio]>=1.4.49->llama-index-core==0.10.48->llama-index) (3.0.3)\n",
            "Requirement already satisfied: mypy-extensions>=0.3.0 in /usr/local/lib/python3.10/dist-packages (from typing-inspect>=0.8.0->llama-index-core==0.10.48->llama-index) (1.0.0)\n",
            "Requirement already satisfied: marshmallow<4.0.0,>=3.18.0 in /usr/local/lib/python3.10/dist-packages (from dataclasses-json->llama-index-core==0.10.48->llama-index) (3.21.3)\n",
            "Requirement already satisfied: python-dateutil>=2.8.2 in /usr/local/lib/python3.10/dist-packages (from pandas->llama-index-core==0.10.48->llama-index) (2.8.2)\n",
            "Requirement already satisfied: pytz>=2020.1 in /usr/local/lib/python3.10/dist-packages (from pandas->llama-index-core==0.10.48->llama-index) (2023.4)\n",
            "Requirement already satisfied: tzdata>=2022.1 in /usr/local/lib/python3.10/dist-packages (from pandas->llama-index-core==0.10.48->llama-index) (2024.1)\n",
            "Requirement already satisfied: exceptiongroup in /usr/local/lib/python3.10/dist-packages (from anyio->httpx->llama-index-core==0.10.48->llama-index) (1.2.1)\n",
            "Requirement already satisfied: packaging>=17.0 in /usr/local/lib/python3.10/dist-packages (from marshmallow<4.0.0,>=3.18.0->dataclasses-json->llama-index-core==0.10.48->llama-index) (24.1)\n",
            "Requirement already satisfied: annotated-types>=0.4.0 in /usr/local/lib/python3.10/dist-packages (from pydantic>=1.10->llamaindex-py-client<0.2.0,>=0.1.18->llama-index-core==0.10.48->llama-index) (0.7.0)\n",
            "Requirement already satisfied: pydantic-core==2.18.4 in /usr/local/lib/python3.10/dist-packages (from pydantic>=1.10->llamaindex-py-client<0.2.0,>=0.1.18->llama-index-core==0.10.48->llama-index) (2.18.4)\n",
            "Requirement already satisfied: six>=1.5 in /usr/local/lib/python3.10/dist-packages (from python-dateutil>=2.8.2->pandas->llama-index-core==0.10.48->llama-index) (1.16.0)\n"
          ]
        }
      ]
    },
    {
      "cell_type": "code",
      "source": [
        "from llama_index.core import VectorStoreIndex, SimpleDirectoryReader,ServiceContext\n",
        "from llama_index.llms.mistralai import MistralAI\n",
        "from llama_index.embeddings.mistralai import MistralAIEmbedding\n",
        "from llama_index.core.query_engine import RetrieverQueryEngine"
      ],
      "metadata": {
        "id": "8A-dgletDuoK"
      },
      "execution_count": 17,
      "outputs": []
    },
    {
      "cell_type": "code",
      "source": [],
      "metadata": {
        "id": "X2hQW5A04fcz"
      },
      "execution_count": null,
      "outputs": []
    },
    {
      "cell_type": "code",
      "source": [
        "loader = CSVLoader(file_path='/content/property_details_10.csv', encoding='utf-8', csv_args={'delimiter': ','})\n",
        "\n",
        "# Load data\n",
        "reader = SimpleDirectoryReader(input_files=['/content/property_details_10.csv'])\n",
        "documents = reader.load_data()\n",
        "documents"
      ],
      "metadata": {
        "colab": {
          "base_uri": "https://localhost:8080/"
        },
        "id": "WAu0KBXgCNRI",
        "outputId": "85d53559-ad1b-44a0-bff6-5f4c42ecf014"
      },
      "execution_count": 25,
      "outputs": [
        {
          "output_type": "execute_result",
          "data": {
            "text/plain": [
              "[Document(id_='0d8ba714-5db6-4746-8fe0-c49b7df73011', embedding=None, metadata={'file_path': '/content/property_details_10.csv', 'file_name': 'property_details_10.csv', 'file_type': 'text/csv', 'file_size': 25768, 'creation_date': '2024-06-22', 'last_modified_date': '2024-06-22'}, excluded_embed_metadata_keys=['file_name', 'file_type', 'file_size', 'creation_date', 'last_modified_date', 'last_accessed_date'], excluded_llm_metadata_keys=['file_name', 'file_type', 'file_size', 'creation_date', 'last_modified_date', 'last_accessed_date'], relationships={}, text='0, 6596316, Welcome to this beautiful sanctuary located in the highly coveted Ashford Forest Lake Section in the Energy Corridor. Step into a private retreat just steps away from Ashford Lake. Natural lights floods into the first floor living, complete with updated gourmet kitchen, high end appliances, wine bar, study, formal living and dining room. Upstairs you will find the spacious Primary bedroom and en-suite bathroom with double vanities, walk-in closet, soaking tub and walk-in shower. The exterior offers an exceptionally large backyard with private pool, ravine and lake access and side yard perfect for relaxing and entertaining! Additional Amenities include access to two neighborhood pools, tennis courts, and the scenic Terry Hershey Park Hike and Bike Trail. Nestled in the heart of the City, this home offers a serene oasis, surrounded by natural beauty and lush privacy, providing an idyllic retreat amidst urban convenience., SINGLE_FAMILY, [\\'Natural Gas\\'], [\\'Electric\\', \\'Ceiling Fan(s)\\'], 1.0, [\\'Carpet\\', \\'Tile\\', \\'Wood\\'], False, [{\\'name\\': \\'Ashford Elementary School\\', \\'level\\': \\'Primary\\', \\'rating\\': 5}, {\\'name\\': \\'West Briar Middle School\\', \\'level\\': \\'Middle\\', \\'rating\\': 6}, {\\'name\\': \\'Westside High School\\', \\'level\\': \\'High\\', \\'rating\\': 4}], [\\'Alief\\', \\'Central Southwest\\', \\'Clear Lake\\', \\'Eldridge - West Oaks\\', \\'Greater Fondren Southwest\\', \\'Greater Uptown\\', \\'Kingwood\\', \\'Northside-Northline\\', \\'Sharpstown\\', \\'South Belt - Ellington\\'], [\\'Water Heater\\', \\'Refrigerator Included\\', \\'Convection Oven\\', \\'Double Oven\\', \\'Gas Oven\\', \\'Gas Cooktop\\', \\'Dishwasher\\', \\'Disposal\\', \\'Microwave\\'], nan, nan\\n1, 6596316, Discover your dream home in Canfield with this stunning property offering a perfect blend of space, comfort and luxury living.  Located in the prestigious Tippecanoe County Club area, this home is ideal for those seeking a serene yet connected lifestyle. The spacious layout offers multiple levels of living space with flexibility for all.  With three generously sized bedrooms and potential for a fourth bedroom ensure ample space for everyone.  The Home Office is perfect for remote work or as a dedicated study area, enhancing productivity and convenience. Seamlessly connect with the indoor and outdoor living area with a walkout lower level, providing easy access to the landscaped backyard and a gorgeous, private oasis complete with a inground heated swimming pool.  This exceptionally updated home boast beautiful trim work though-out, warm cherry wood flooring, stainless appliances, 2 fireplaces, a finished lower level with wet bar and much more surrounded by the Tippecanoe Country Club grounds., SINGLE_FAMILY, [\\'Forced Air\\'], [\\'Gas\\'], 2.0, nan, False, [{\\'name\\': \\'Canfield Village Middle School\\', \\'level\\': \\'Elementary\\', \\'rating\\': 9}, {\\'name\\': \\'Canfield High School\\', \\'level\\': \\'High\\', \\'rating\\': 7}, {\\'name\\': \\'C H Campbell Elementary School\\', \\'level\\': \\'Elementary\\', \\'rating\\': 9}], [], [\\'Built-In Oven\\', \\'Cooktop\\', \\'Dryer\\', \\'Dishwasher\\', \\'Disposal\\', \\'Microwave\\', \\'Refrigerator\\', \\'Washer\\'], nan, nan\\n2, 6596316, Stunning Custom Built home with all the features you can think of!! If you like to entertain, this backyard is for you!!! Extra large heated gunite pool with a spa,  salt water,  9ft deep side for diving, fire pit, outdoor grilling/kitchen, covered deck with a beautiful fireplace! The interior features will charm you as soon as you walk in! Beautiful hardwoods throughout, planked wood ceilings in the dining and family room, 2 story vaulted family room with exposed beams, large kitchen open concept, large island, high end appliances and a walk-in pantry, stone 2 story fireplace, master bedroom and in-law/guest suite on the main, 3 bedrooms and a loft on the second level. The basement is another entertainer\\'s heaven- full kitchen, butcher block island, movie theater, guest suite and living room. Master suite has its own HVAC unit with makes a total of 4 units!! Call Oana Brown to schedule a showing!, SINGLE_FAMILY, [\\'Central\\'], [\\'Central Air\\'], 2.0, [\\'Hardwood\\'], False, [{\\'name\\': \\'Dacula Elementary School\\', \\'level\\': \\'Primary\\', \\'rating\\': 6}, {\\'name\\': \\'Dacula Middle School\\', \\'level\\': \\'Middle\\', \\'rating\\': 6}, {\\'name\\': \\'Dacula High School\\', \\'level\\': \\'High\\', \\'rating\\': 6}], [], [\\'Dishwasher\\', \\'Double Oven\\'], nan, nan\\n3, 6596316, Experience the most impressive sunsets while floating the day away in your pool! This turnkey, move-in ready home boasts over 2,200 square feet of living space, featuring 4 spacious bedrooms and 2 bathrooms. Meticulously maintained, this home includes a new roof installed in 2021. Step inside to discover a bright and airy ambiance, enhanced by stunning volume ceilings that allow natural light to flood the open-concept floor plan. The home is tiled throughout, ensuring a clean and cohesive look. Notable interior features include tray ceilings, plantation shutters, and recessed lighting, adding a touch of sophistication to every room. The updated kitchen is a chef’s dream, equipped with quartz countertops, GE appliances, a center island, pantry, wood cabinetry, breakfast bar, and a cozy breakfast nook. Just off the kitchen, the interior laundry room doubles as a waiter’s pantry, complete with matching cabinetry and quartz countertops, a microwave, and a wine fridge. Relax or entertain in the inviting living room, or enjoy meals in the formal dining area perfect for social gatherings. Outside, the home continues to impress. The backyard is an oasis with a heated pool, pavered pool deck, waterfall feature, and covered area. Additional outdoor amenities include an extended pavered sitting area, mature landscaping, seawall, concrete dock, and kayak rack. For added convenience and peace of mind, the home includes a generator/propane and an electric shutter installed in 2022. This home offers the perfect blend of comfort, style, and outdoor beauty. Don’t miss the opportunity to experience the best of Florida living with breathtaking sunsets from your own freshwater pool home. Schedule a showing today!, SINGLE_FAMILY, [\\'Central Electric\\'], [\\'Central Electric\\'], nan, [\\'Carpet\\', \\'Tile\\'], False, [{\\'name\\': \\'Skyline Elementary School\\', \\'level\\': \\'Primary\\', \\'rating\\': 5}, {\\'name\\': \\'Challenger Middle School\\', \\'level\\': \\'Middle\\', \\'rating\\': 6}, {\\'name\\': \\'Cape Coral High School\\', \\'level\\': \\'High\\', \\'rating\\': 5}], [\\'Bella Vida\\', \\'Cape Harbour\\', \\'Coral Lakes\\', \\'Entrada\\', \\'Heatherwood Lakes\\', \\'Island Harbors\\', \\'Royal Tee\\', \\'Sandoval\\', \\'Tarpon Point\\'], [\\'Electric Cooktop\\', \\'Dryer\\', \\'Refrigerator/Icemaker\\'], [\\'None\\'], 0.0\\n4, 6596316, 13102 Greensview Ln features 3 bedrooms, 2 full bathrooms, and a half bathroom. High ceilings and an open floor plan with new downstairs flooring, creates a spacious and airy atmosphere in the 2 story abode. Enjoy a view of the neighborhood from the front covered patio or of your personal oasis with fenced in swimming pool on the back covered porch with awning. A swing set is also available for extra convenience for little ones and the pool is surrounded by a deck. The kitchen is equipped with modern appliances. Head up the Jack and Jill stairs to the master bedroom with en-suite bathroom which offers a double vanity and a garden tub, perfect for a relaxing escape after a long day. The house also features a media/game room, a new ac, brick fire place, a dining room and a breakfast bar, providing plenty of space for work, relaxation, and entertainment. The property has a two-car garage and is located on a large cul de sac lot in the much sought after Northern Heights community. Schedule a showing today!, SINGLE_FAMILY, [\\'Central\\', \\'Electric\\'], [\\'Central Air\\'], 1.0, [\\'Carpet\\', \\'Ceramic Tile\\', \\'Laminate\\'], False, [{\\'name\\': \\'Northern Hills Elementary School\\', \\'level\\': \\'Primary\\', \\'rating\\': 3}, {\\'name\\': \\'Driscoll Middle School\\', \\'level\\': \\'Middle\\', \\'rating\\': 5}, {\\'name\\': \\'Madison High School\\', \\'level\\': \\'High\\', \\'rating\\': 4}], [\\'Alamo Farmsteads-Babcock Road\\', \\'Dellview Area\\', \\'Great Northwest\\', \\'Highland Hills\\', \\'North Central\\', \\'Palm Heights\\', \\'People Active in Community Effort\\', \\'Prospect Hill\\', \\'South Southwest\\', \\'Vance Jackson\\'], [\\'Microwave\\', \\'Range\\', \\'Water Softener Owned\\'], nan, nan\\n5, 6596316, Welcome to 306 E Cascade, Rialto - a stunningly renovated 4-bedroom, 3-bathroom home that epitomizes modern elegance and comfort. This exquisite property has been meticulously upgraded from top to bottom, ensuring a luxurious living experience.    Step inside to discover a bright and airy interior, featuring a brand-new kitchen outfitted with sleek countertops, contemporary cabinetry, and state-of-the-art appliances. The bathrooms have been tastefully remodeled, boasting stylish fixtures and finishes. Gorgeous new flooring and fresh paint throughout the home create a cohesive and inviting atmosphere.    The master bedroom is a true retreat, offering ample space and tranquility. Each additional bedroom provides comfort and versatility, perfect for family, guests, or a home office.    Situated on an expansive lot, this property offers abundant outdoor space, ideal for entertaining, gardening, or simply enjoying the Southern California sunshine. With its prime location in Rialto, you\\'ll have convenient access to local amenities, schools, and parks.    Don\\'t miss the opportunity to own this beautifully renovated gem. Schedule your showing today and experience the charm and sophistication of 306 E Cascade, Rialto., SINGLE_FAMILY, [\\'Central\\'], [\\'Central Air\\'], nan, [\\'Laminate\\'], False, [{\\'name\\': \\'Morgan Elementary School\\', \\'level\\': \\'Elementary\\', \\'rating\\': 6}, {\\'name\\': \\'Frisbie Middle School\\', \\'level\\': \\'Middle\\', \\'rating\\': 3}, {\\'name\\': \\'Eisenhower Senior High School\\', \\'level\\': \\'High\\', \\'rating\\': 5}], [], [\\'Dishwasher\\', \\'Gas Range\\'], nan, nan\\n6, 6596316, Wow! Beautifully remodeled single-story home featuring an open great room floor plan with laminated wood flooring RV Parking, new fixtures, 2-tone paint, and a fireplace with a mantle and backsplash. Enjoy the vaulted ceilings, custom woodwork, and upgraded baseboards throughout. The kitchen is equipped with custom cabinets, a massive island with a quartz countertop, and a sliding glass door to the rear yard. The primary bedroom includes custom closet built-ins, a slider to the rear yard, and a stunning bathroom with dual sinks and a decorative shower backsplash. Secondary bedrooms also have custom closet built-ins. The private rear yard is perfect for entertaining with a covered patio, synthetic grass, and a fire pit.  Plus, there’s no HOA! Truly a must-see property in a fantastic location close to the highway, shopping, and restaurants!, SINGLE_FAMILY, [\\'Central\\', \\'Gas\\'], [\\'Central Air\\', \\'Electric\\'], 0.0, [\\'Laminate\\'], False, [{\\'name\\': \\'Lilly & Wing Fong Elementary School\\', \\'level\\': \\'Primary\\', \\'rating\\': 6}, {\\'name\\': \\'Frank F Garside Junior High School\\', \\'level\\': \\'Middle\\', \\'rating\\': 2}, {\\'name\\': \\'Western High School\\', \\'level\\': \\'High\\', \\'rating\\': 5}], [\\'Centennial Hills\\', \\'Charleston Heights\\', \\'Enterprise\\', \\'Lone Mountain\\', \\'Michael Way\\', \\'North Cheyenne\\', \\'Paradise\\', \\'Spring Valley\\', \\'Summerlin North\\', \\'Sunrise Manor\\'], [\\'Dryer\\', \\'Dishwasher\\', \\'Disposal\\', \\'Gas Range\\', \\'Refrigerator\\', \\'Washer\\'], [\\'None\\'], 0.0\\n7, 6596316, Welcome to this serene Waterfront Retreat! \\r\\n\\r\\nDiscover this like-new 3-bedroom, 2-bathroom waterfront home nestled on almost an acre lot. Wood floors throughout the home create a warm and inviting ambiance, while the tile bathrooms and laundry room offer both functionality and style. The tranquil covered patio provides a perfect spot to take in the peaceful pond and the enchanting view of the trees across the water.\\r\\n\\r\\nStep into the beautiful kitchen featuring upgraded quartz countertops and stainless steel appliances, making it the heart of this inviting abode. This picturesque waterfront property offers a perfect blend of modern luxury and natural serenity., SINGLE_FAMILY, [\\'Central\\'], [\\'Central Air\\'], nan, [\\'Tile\\', \\'Wood\\'], False, [{\\'name\\': \\'Louis S. Sheffield Elementary School\\', \\'level\\': \\'Elementary\\', \\'rating\\': 7}, {\\'name\\': \\'Oceanway School\\', \\'level\\': \\'Middle\\', \\'rating\\': 2}, {\\'name\\': \\'First Coast High School\\', \\'level\\': \\'High\\', \\'rating\\': 4}], [\\'Baymeadows\\', \\'Beach Haven\\', \\'Chimney Lakes\\', \\'Deerwood\\', \\'Del Rio\\', \\'East Arlington\\', \\'Golden Glades - The Woods\\', \\'Jacksonville Heights\\', \\'Sandalwood\\', \\'Windy Hill\\'], [\\'Dishwasher\\', \\'Disposal\\', \\'Dryer\\', \\'Electric Range\\', \\'Microwave\\', \\'Refrigerator\\', \\'Washer\\'], nan, nan\\n8, 6596316, Look no Further, incredible opportunity to be in the desirable Ivey Chase Community. As you step inside, you\\'ll be greeted by a Two Story Foyer, Dining Room with Custom Barn Door, Office Space, and Hardwood Flooring that boast throughout the Main. The recently renovated kitchen is a chef\\'s delight, with a working island, gas range, stainless steel appliances, and ample counter space for meal preparation. You\\'ll enjoy the open living concept this home offers - a spacious living room with gas fireplace that flow effortlessly into the breakfast nook and kitchen, the perfect space for entertaining. Owners suite with trey ceilings and an ensuite bath with dual vanity sinks, soaking tub and tile surround shower. Upstairs you\\'ll also find New Carpet throughout, Three Secondary Rooms, a Full Bath and Laundry Room. Escape to your Backyard and enjoy the Upgraded Expansive Patio, NEW 2024 ROOF and Lush Greenery that surrounds the Fenced in yard - creating the perfect space for Privacy and Outdoor Entertainment! Hometown Lifestyle close to Schools, Shopping, Dining, Entertainment, Multiple Public Parks and Recreation, Lake Lanier, and I85!, SINGLE_FAMILY, [\\'Central\\'], [\\'Ceiling Fan(s)\\', \\'Central Air\\'], 1.0, [\\'Carpet\\', \\'Hardwood\\'], False, [{\\'name\\': \\'Dyer Elementary School\\', \\'level\\': \\'Primary\\', \\'rating\\': 9}, {\\'name\\': \\'Twin Rivers Middle School\\', \\'level\\': \\'Middle\\', \\'rating\\': 8}, {\\'name\\': \\'Mountain View High School\\', \\'level\\': \\'High\\', \\'rating\\': 7}], [], [\\'Cooktop\\', \\'Dishwasher\\', \\'Microwave\\', \\'Oven\\'], nan, nan\\n9, 6596316, This stunning Candlewood home is ready for its new owners!  Prepare to be impressed by this modern multi-level home that is open, updated and spacious. The kitchen was recently remodeled and includes stainless steel appliances, quartz countertops, soft close cabinets, and a unique custom island.  The living room has vaulted ceilings and a fabulous fireplace wall. Natural light fills the home. The large primary bedroom includes a walk-in closet and dual sinks. The finished basement gives that extra added space for you or your family to enjoy, and would also be perfect for that sought after home office. The welcoming aspect of this home extends to the outdoors with a brick patio surrounded by a lush, LARGE fenced yard. The home is just steps away from your opportunity to enjoy a stroll around the picturesque lake. This is a great central location, with quick and easy access to Dodge.  Come check it out!, SINGLE_FAMILY, [\\'Forced Air\\', \\'Natural Gas\\'], [\\'Central Air\\'], 1.0, [\\'Carpet\\', \\'Ceramic Tile\\', \\'Laminate\\', \\'Wood\\', \\'Ceramic Tile Floor\\'], False, [{\\'name\\': \\'Columbian Elementary School\\', \\'level\\': \\'Primary\\', \\'rating\\': 6}, {\\'name\\': \\'Beveridge Magnet Middle School\\', \\'level\\': \\'Middle\\', \\'rating\\': 3}, {\\'name\\': \\'Burke High School\\', \\'level\\': \\'High\\', \\'rating\\': 5}], [\\'Aksarben-Elmwood Park\\', \\'Benson\\', \\'Deer Park\\', \\'Elkhorn\\', \\'Hanscom Park\\', \\'Maple Village\\', \\'Miller Park-Minne Lusa\\', \\'Northwest\\', \\'Triple One\\', \\'Wiercrest\\'], [\\'Range - Cooktop + Oven\\', \\'Refrigerator\\', \\'Washer\\', \\'Dishwasher\\', \\'Dryer\\', \\'Disposal\\', \\'Microwave\\'], nan, nan\\n10, 6596316, If you\\'re seeking a private retreat to call your own, look no further! This beautiful log cabin home is situated on 3.6 wooded acres in Auburn. A long, tree-lined shared driveway leads you to this tranquil setting. The home features a wrap-around deck, swimming pool, pool house, and hot tub structure. Inside, you\\'ll find a spacious great room with a vaulted ceiling and a stone gas-started fireplace. The kitchen boasts an island for ample counter space and room for a large table. Down the hall are two generously sized bedrooms and a full bath with double sinks. Upstairs, there\\'s a cozy loft that serves as an office but can also function as a playroom or extra TV room, offering a view of the great room. Continuing down the hallway, you\\'ll find the main bathroom with a shower and claw-foot tub, as well as the main bedroom with a walk-in closet and stunning views of the property. A first-floor laundry/mud room with a utility sink and storage is conveniently located at the back entrance. The basement features a large rec room, bar area, and additional storage space. There is a two-car garage and extra parking spaces for guests. While the property needs some love to make it your own, it offers great potential. Located in the Kenston School District with Geauga County taxes. Don\\'t miss out on this one!, SINGLE_FAMILY, [\\'Forced Air\\'], [\\'Central Air\\', \\'Ceiling Fan(s)\\'], 1.0, nan, False, [{\\'name\\': \\'Timmons Elementary School\\', \\'level\\': \\'Primary\\', \\'rating\\': 7}, {\\'name\\': \\'Kenston Middle School\\', \\'level\\': \\'Middle\\', \\'rating\\': 7}, {\\'name\\': \\'Kenston High School\\', \\'level\\': \\'High\\', \\'rating\\': 8}], [\\'Bainbridge\\'], [\\'Dryer\\', \\'Dishwasher\\', \\'Freezer\\', \\'Microwave\\', \\'Range\\', \\'Refrigerator\\', \\'Washer\\'], nan, nan\\n11, 81828725, iscover this fully upgraded 4-bedroom, 2-bathroom manufactured home, perfect for modern living. The heart of this residence is the kitchen, equipped with quartz countertops, stainless steel appliances, and striking black & white shaker cabinets with soft-closing features. Freshly painted walls are complemented by 5-inch baseboards and durable vinyl flooring (LVP), providing a sleek and contemporary look. Each bathroom has been beautifully remodeled with new custom tile showers, adding a touch of luxury. Additional features include two carports, wood slates fixture, artificial grass, a large kitchen island, and an extra-sized kitchen with a patio cover. This home combines style, comfort, and practicality, making it an ideal choice for anyone looking for a move-in ready property., MANUFACTURED, [\\'Central\\', \\'Gas\\'], [\\'Central Air\\', \\'Electric\\'], 0.0, [\\'Luxury Vinyl Plank\\'], False, [{\\'name\\': \\'Hal Smith Elementary School\\', \\'level\\': \\'Primary\\', \\'rating\\': 2}, {\\'name\\': \\'Kathleen & Tim Harney Middle School\\', \\'level\\': \\'Middle\\', \\'rating\\': 3}, {\\'name\\': \\'Chaparral High School\\', \\'level\\': \\'High\\', \\'rating\\': 3}], [\\'Centennial Hills\\', \\'Charleston Heights\\', \\'Enterprise\\', \\'Lone Mountain\\', \\'Michael Way\\', \\'North Cheyenne\\', \\'Paradise\\', \\'Spring Valley\\', \\'Summerlin North\\', \\'Sunrise Manor\\'], [\\'Dishwasher\\', \\'Disposal\\', \\'Gas Range\\', \\'Microwave\\'], [\\'Clubhouse\\', \\'Fitness Center\\', \\'Park\\', \\'Pool\\', \\'Recreation Room\\', \\'RV Parking\\', \\'Security\\'], 2.0\\n12, 38178011, Imagine starting your days sipping coffee or tea on your covered front porch, basking in the rising sun\\'s warm glow. This 4 bedroom, 2 bath dream home invites you to experience the perfect blend of comfort and style!   Perfect for growing families, the open-concept kitchen and dining area create an inviting space for memorable meals and lively gatherings. Slide open the doors to the covered back porch, allowing the indoors and outdoors to blend seamlessly. Or, let the natural light pour in through the beautiful French doors that open onto the living room—an ideal setting for cozy movie nights!   It’s summer and your outdoor oasis awaits! Fire up the grill and invite loved ones over for backyard barbecues and fun-filled games across the backyard. You can savor those long summer days with another covered porch area in complete comfort and privacy.   But the perks don\\'t stop there! Say goodbye to the headaches of street parking, because this wonderful offers its very own driveway. Simply pull in and start embracing the laidback Willingboro lifestyle!   Speaking of location, you\\'ll immerse yourself in the best this township offers. From the serene greenery of Millcreek Park to mouth-watering eateries, and unbeatable shopping options - this prime address has it all just steps from your front door.   Don\\'t let your dream home pass you by! Make this bright, open, and amenity-rich Willingboro beauty your own personal oasis. Contact me today to stake your claim on the good life!, SINGLE_FAMILY, [\\'Forced Air\\', \\'Natural Gas\\'], [\\'Central A/C\\', \\'Natural Gas\\'], nan, [\\'Carpet\\', \\'Tile/Brick\\', \\'Wood\\'], False, [{\\'name\\': \\'Hawthorne Park Elementary School\\', \\'level\\': \\'Elementary\\', \\'rating\\': 4}, {\\'name\\': \\'Memorial Middle School\\', \\'level\\': \\'Elementary\\', \\'rating\\': 4}, {\\'name\\': \\'Willingboro High School\\', \\'level\\': \\'High\\', \\'rating\\': 1}], [], [\\'Dishwasher\\', \\'Refrigerator\\', \\'Stove\\', \\'Gas Water Heater\\'], nan, nan\\n13, 6964521, Wow! This 4-bed, 3-bath single-story home is a true gem. Newly renovated and perfectly situated in a tranquil neighborhood, it features fresh paint, a modern and aesthetic design, and elegant vaulted ceilings. The home boasts laminated wood flooring throughout, a cozy fireplace in the living room, and a kitchen equipped with a new modern light fixture and a breakfast bar/counter. The well-sized bedrooms come with mirrored door closets. Outside, enjoy a beautiful, private backyard with a covered patio and pool. Located in a great area with no HOA, it’s within walking distance of parks and shopping centers and offers hassle-free connectivity with easy freeway access to Summerlin Pkwy. This is one of a kind, don\\'t miss this opportunity!, SINGLE_FAMILY, [\\'Central\\', \\'Gas\\'], [\\'Central Air\\', \\'Electric\\'], 1.0, [\\'Laminate\\'], False, [{\\'name\\': \\'Edythe & Lloyd Katz Elementary School\\', \\'level\\': \\'Primary\\', \\'rating\\': 4}, {\\'name\\': \\'Ernest Becker Middle School\\', \\'level\\': \\'Middle\\', \\'rating\\': 6}, {\\'name\\': \\'Cimarron Memorial High School\\', \\'level\\': \\'High\\', \\'rating\\': 5}], [\\'Centennial Hills\\', \\'Charleston Heights\\', \\'Enterprise\\', \\'Lone Mountain\\', \\'Michael Way\\', \\'North Cheyenne\\', \\'Paradise\\', \\'Spring Valley\\', \\'Summerlin North\\', \\'Sunrise Manor\\'], [\\'Dishwasher\\', \\'Disposal\\', \\'Gas Range\\', \\'Microwave\\'], [\\'None\\'], 0.0\\n14, 35836826, Enchanting Historical Gem in Sylvan Hills. Discover a captivating piece of history with this exquisitely renovated 3-bedroom, 2-bathroom home. As featured on \"Flip or Flop Atlanta,\" this residence not only boasts reality TV fame but also showcases the remarkable enhancements made by its current owners, surpassing the show\\'s original design. From the moment you arrive, the custom lime-wash exterior sets this home apart as truly one-of-a-kind. Step inside to an expanded living area, offering a spacious and inviting atmosphere rarely found on this street. The designer kitchen is a chef\\'s paradise, equipped with updated cabinets, a stylish backsplash, modern appliances, quartz countertops, and open shelving, ready to inspire your culinary adventures. Gleaming hardwood floors flow throughout the home, leading to the renovated primary bathroom that combines modern comfort with historical charm. Despite its listed square footage, this home feels much larger, reminiscent of the Tardis from Doctor Who. With no HOA but a vibrant and welcoming neighborhood association, this home is perfect for those who value community. Enjoy the convenience of being less than a mile from Perkerson Park, a short walk to the Westside Beltline, and the Marta station. Lee + White, the Beltline\\'s latest attraction, is just a stone\\'s throw away, offering an array of dining and entertainment options. Proximity to Tyler Perry Studios and a quick 10-minute drive to the airport make this location ideal for work and play. The large, private backyard is a sanctuary with a charming pergola, perfect for outdoor relaxation and entertaining. Freshly updated paint inside and out adds a contemporary touch to this timeless classic. Seize the rare opportunity to own a slice of Sylvan Hills history with all the modern comforts you desire. Fall in love with your new home!, SINGLE_FAMILY, [\\'Central\\', \\'Electric\\'], [\\'Ceiling Fan(s)\\', \\'Central Air\\', \\'Electric\\'], 0.0, [\\'Hardwood\\', \\'Tile\\'], False, [{\\'name\\': \\'Perkerson Elementary School\\', \\'level\\': \\'Primary\\', \\'rating\\': 5}, {\\'name\\': \\'Sylvan Hills Middle School\\', \\'level\\': \\'Middle\\', \\'rating\\': 5}, {\\'name\\': \\'Carver High School\\', \\'level\\': \\'High\\', \\'rating\\': 1}], [\\'Downtown\\', \\'Druid Hills\\', \\'Grant Park\\', \\'Midtown\\', \\'Morningside - Lenox Park\\', \\'North Buckhead\\', \\'North Druid Hills\\', \\'Old Fourth Ward\\', \\'Pine Hills\\', \\'Virginia Highland\\'], [\\'Dishwasher\\', \\'Double Oven\\', \\'Dryer\\', \\'Electric Water Heater\\', \\'Microwave\\', \\'Oven/Range (Combo)\\', \\'Refrigerator\\', \\'Stainless Steel Appliance(s)\\', \\'Washer\\'], nan, nan\\n15, 6596316, **Contract Pending** Welcome to your Private Oasis, backing to wooded area along the Helen Boosalis Trail. This beautifully updated home is completely turn key and ready to entertain! With more than 2,700 sq ft of finished space - this well-designed 5 bed 3 bath property is one with unlimited possibilities - Enjoy a beautiful cedar lined 3 seasons room off the deck above the walkout basement, With beautiful landscaping and workshop in the back. Enjoy the heated tile floors in the kitchen + the additional family room and formal dining. Pool, and fish pond create a space you will never want to leave! Other convenient amenities include an extra deep garage (27 ft deep by 15 ft wide), Skylights, Speakers throughout main floor, & Heated Shop in backyard!, SINGLE_FAMILY, [\\'Forced Air\\', \\'Natural Gas\\'], [\\'Central Air\\'], 1.0, nan, False, [{\\'name\\': \\'Zeman Elementary School\\', \\'level\\': \\'Primary\\', \\'rating\\': 6}, {\\'name\\': \\'Pound Middle School\\', \\'level\\': \\'Middle\\', \\'rating\\': 7}, {\\'name\\': \\'Lincoln Southeast High School\\', \\'level\\': \\'High\\', \\'rating\\': 4}], [\\'Belmont\\', \\'Bethany\\', \\'Clinton\\', \\'Country Club\\', \\'Family Acres\\', \\'Havelock\\', \\'Highlands\\', \\'Near South\\', \\'University Place\\', \\'West A\\'], [\\'Dishwasher\\', \\'Disposal\\', \\'Dryer\\', \\'Microwave\\', \\'Range - Cooktop + Oven\\', \\'Refrigerator\\', \\'Washer\\'], nan, nan', mimetype='text/plain', start_char_idx=None, end_char_idx=None, text_template='{metadata_str}\\n\\n{content}', metadata_template='{key}: {value}', metadata_seperator='\\n')]"
            ]
          },
          "metadata": {},
          "execution_count": 25
        }
      ]
    },
    {
      "cell_type": "code",
      "source": [
        "data = loader.load()"
      ],
      "metadata": {
        "id": "kkF6CUNFC6x_"
      },
      "execution_count": 19,
      "outputs": []
    },
    {
      "cell_type": "code",
      "source": [
        "data"
      ],
      "metadata": {
        "colab": {
          "base_uri": "https://localhost:8080/"
        },
        "id": "WiHjK97gC-c7",
        "outputId": "7ffff839-e0fa-493f-d08d-5bb67dccb6e6"
      },
      "execution_count": 20,
      "outputs": [
        {
          "output_type": "execute_result",
          "data": {
            "text/plain": [
              "[Document(page_content=\": 0\\nzpid: 6596316\\ndescription: Welcome to this beautiful sanctuary located in the highly coveted Ashford Forest Lake Section in the Energy Corridor. Step into a private retreat just steps away from Ashford Lake. Natural lights floods into the first floor living, complete with updated gourmet kitchen, high end appliances, wine bar, study, formal living and dining room. Upstairs you will find the spacious Primary bedroom and en-suite bathroom with double vanities, walk-in closet, soaking tub and walk-in shower. The exterior offers an exceptionally large backyard with private pool, ravine and lake access and side yard perfect for relaxing and entertaining! Additional Amenities include access to two neighborhood pools, tennis courts, and the scenic Terry Hershey Park Hike and Bike Trail. Nestled in the heart of the City, this home offers a serene oasis, surrounded by natural beauty and lush privacy, providing an idyllic retreat amidst urban convenience.\\nhomeType: SINGLE_FAMILY\\nheating: ['Natural Gas']\\ncooling: ['Electric', 'Ceiling Fan(s)']\\nfireplaces: 1\\nflooring: ['Carpet', 'Tile', 'Wood']\\nfurnished: FALSE\\nSchoole: [{'name': 'Ashford Elementary School', 'level': 'Primary', 'rating': 5}, {'name': 'West Briar Middle School', 'level': 'Middle', 'rating': 6}, {'name': 'Westside High School', 'level': 'High', 'rating': 4}]\\nneighborhoodName: ['Alief', 'Central Southwest', 'Clear Lake', 'Eldridge - West Oaks', 'Greater Fondren Southwest', 'Greater Uptown', 'Kingwood', 'Northside-Northline', 'Sharpstown', 'South Belt - Ellington']\\nappliances: ['Water Heater', 'Refrigerator Included', 'Convection Oven', 'Double Oven', 'Gas Oven', 'Gas Cooktop', 'Dishwasher', 'Disposal', 'Microwave']\\nassociationAmenities: \\ncarParking: \", metadata={'source': '/content/property_details_10.csv', 'row': 0}),\n",
              " Document(page_content=\": 1\\nzpid: 6596316\\ndescription: Discover your dream home in Canfield with this stunning property offering a perfect blend of space, comfort and luxury living.  Located in the prestigious Tippecanoe County Club area, this home is ideal for those seeking a serene yet connected lifestyle. The spacious layout offers multiple levels of living space with flexibility for all.  With three generously sized bedrooms and potential for a fourth bedroom ensure ample space for everyone.  The Home Office is perfect for remote work or as a dedicated study area, enhancing productivity and convenience. Seamlessly connect with the indoor and outdoor living area with a walkout lower level, providing easy access to the landscaped backyard and a gorgeous, private oasis complete with a inground heated swimming pool.  This exceptionally updated home boast beautiful trim work though-out, warm cherry wood flooring, stainless appliances, 2 fireplaces, a finished lower level with wet bar and much more surrounded by the Tippecanoe Country Club grounds.\\nhomeType: SINGLE_FAMILY\\nheating: ['Forced Air']\\ncooling: ['Gas']\\nfireplaces: 2\\nflooring: \\nfurnished: FALSE\\nSchoole: [{'name': 'Canfield Village Middle School', 'level': 'Elementary', 'rating': 9}, {'name': 'Canfield High School', 'level': 'High', 'rating': 7}, {'name': 'C H Campbell Elementary School', 'level': 'Elementary', 'rating': 9}]\\nneighborhoodName: []\\nappliances: ['Built-In Oven', 'Cooktop', 'Dryer', 'Dishwasher', 'Disposal', 'Microwave', 'Refrigerator', 'Washer']\\nassociationAmenities: \\ncarParking: \", metadata={'source': '/content/property_details_10.csv', 'row': 1}),\n",
              " Document(page_content=\": 2\\nzpid: 6596316\\ndescription: Stunning Custom Built home with all the features you can think of!! If you like to entertain, this backyard is for you!!! Extra large heated gunite pool with a spa,  salt water,  9ft deep side for diving, fire pit, outdoor grilling/kitchen, covered deck with a beautiful fireplace! The interior features will charm you as soon as you walk in! Beautiful hardwoods throughout, planked wood ceilings in the dining and family room, 2 story vaulted family room with exposed beams, large kitchen open concept, large island, high end appliances and a walk-in pantry, stone 2 story fireplace, master bedroom and in-law/guest suite on the main, 3 bedrooms and a loft on the second level. The basement is another entertainer's heaven- full kitchen, butcher block island, movie theater, guest suite and living room. Master suite has its own HVAC unit with makes a total of 4 units!! Call Oana Brown to schedule a showing!\\nhomeType: SINGLE_FAMILY\\nheating: ['Central']\\ncooling: ['Central Air']\\nfireplaces: 2\\nflooring: ['Hardwood']\\nfurnished: FALSE\\nSchoole: [{'name': 'Dacula Elementary School', 'level': 'Primary', 'rating': 6}, {'name': 'Dacula Middle School', 'level': 'Middle', 'rating': 6}, {'name': 'Dacula High School', 'level': 'High', 'rating': 6}]\\nneighborhoodName: []\\nappliances: ['Dishwasher', 'Double Oven']\\nassociationAmenities: \\ncarParking: \", metadata={'source': '/content/property_details_10.csv', 'row': 2}),\n",
              " Document(page_content=\": 3\\nzpid: 6596316\\ndescription: Experience the most impressive sunsets while floating the day away in your pool! This turnkey, move-in ready home boasts over 2,200 square feet of living space, featuring 4 spacious bedrooms and 2 bathrooms. Meticulously maintained, this home includes a new roof installed in 2021. Step inside to discover a bright and airy ambiance, enhanced by stunning volume ceilings that allow natural light to flood the open-concept floor plan. The home is tiled throughout, ensuring a clean and cohesive look. Notable interior features include tray ceilings, plantation shutters, and recessed lighting, adding a touch of sophistication to every room. The updated kitchen is a chef’s dream, equipped with quartz countertops, GE appliances, a center island, pantry, wood cabinetry, breakfast bar, and a cozy breakfast nook. Just off the kitchen, the interior laundry room doubles as a waiter’s pantry, complete with matching cabinetry and quartz countertops, a microwave, and a wine fridge. Relax or entertain in the inviting living room, or enjoy meals in the formal dining area perfect for social gatherings. Outside, the home continues to impress. The backyard is an oasis with a heated pool, pavered pool deck, waterfall feature, and covered area. Additional outdoor amenities include an extended pavered sitting area, mature landscaping, seawall, concrete dock, and kayak rack. For added convenience and peace of mind, the home includes a generator/propane and an electric shutter installed in 2022. This home offers the perfect blend of comfort, style, and outdoor beauty. Don’t miss the opportunity to experience the best of Florida living with breathtaking sunsets from your own freshwater pool home. Schedule a showing today!\\nhomeType: SINGLE_FAMILY\\nheating: ['Central Electric']\\ncooling: ['Central Electric']\\nfireplaces: \\nflooring: ['Carpet', 'Tile']\\nfurnished: FALSE\\nSchoole: [{'name': 'Skyline Elementary School', 'level': 'Primary', 'rating': 5}, {'name': 'Challenger Middle School', 'level': 'Middle', 'rating': 6}, {'name': 'Cape Coral High School', 'level': 'High', 'rating': 5}]\\nneighborhoodName: ['Bella Vida', 'Cape Harbour', 'Coral Lakes', 'Entrada', 'Heatherwood Lakes', 'Island Harbors', 'Royal Tee', 'Sandoval', 'Tarpon Point']\\nappliances: ['Electric Cooktop', 'Dryer', 'Refrigerator/Icemaker']\\nassociationAmenities: ['None']\\ncarParking: 0\", metadata={'source': '/content/property_details_10.csv', 'row': 3}),\n",
              " Document(page_content=\": 4\\nzpid: 6596316\\ndescription: 13102 Greensview Ln features 3 bedrooms, 2 full bathrooms, and a half bathroom. High ceilings and an open floor plan with new downstairs flooring, creates a spacious and airy atmosphere in the 2 story abode. Enjoy a view of the neighborhood from the front covered patio or of your personal oasis with fenced in swimming pool on the back covered porch with awning. A swing set is also available for extra convenience for little ones and the pool is surrounded by a deck. The kitchen is equipped with modern appliances. Head up the Jack and Jill stairs to the master bedroom with en-suite bathroom which offers a double vanity and a garden tub, perfect for a relaxing escape after a long day. The house also features a media/game room, a new ac, brick fire place, a dining room and a breakfast bar, providing plenty of space for work, relaxation, and entertainment. The property has a two-car garage and is located on a large cul de sac lot in the much sought after Northern Heights community. Schedule a showing today!\\nhomeType: SINGLE_FAMILY\\nheating: ['Central', 'Electric']\\ncooling: ['Central Air']\\nfireplaces: 1\\nflooring: ['Carpet', 'Ceramic Tile', 'Laminate']\\nfurnished: FALSE\\nSchoole: [{'name': 'Northern Hills Elementary School', 'level': 'Primary', 'rating': 3}, {'name': 'Driscoll Middle School', 'level': 'Middle', 'rating': 5}, {'name': 'Madison High School', 'level': 'High', 'rating': 4}]\\nneighborhoodName: ['Alamo Farmsteads-Babcock Road', 'Dellview Area', 'Great Northwest', 'Highland Hills', 'North Central', 'Palm Heights', 'People Active in Community Effort', 'Prospect Hill', 'South Southwest', 'Vance Jackson']\\nappliances: ['Microwave', 'Range', 'Water Softener Owned']\\nassociationAmenities: \\ncarParking: \", metadata={'source': '/content/property_details_10.csv', 'row': 4}),\n",
              " Document(page_content=\": 5\\nzpid: 6596316\\ndescription: Welcome to 306 E Cascade, Rialto - a stunningly renovated 4-bedroom, 3-bathroom home that epitomizes modern elegance and comfort. This exquisite property has been meticulously upgraded from top to bottom, ensuring a luxurious living experience.    Step inside to discover a bright and airy interior, featuring a brand-new kitchen outfitted with sleek countertops, contemporary cabinetry, and state-of-the-art appliances. The bathrooms have been tastefully remodeled, boasting stylish fixtures and finishes. Gorgeous new flooring and fresh paint throughout the home create a cohesive and inviting atmosphere.    The master bedroom is a true retreat, offering ample space and tranquility. Each additional bedroom provides comfort and versatility, perfect for family, guests, or a home office.    Situated on an expansive lot, this property offers abundant outdoor space, ideal for entertaining, gardening, or simply enjoying the Southern California sunshine. With its prime location in Rialto, you'll have convenient access to local amenities, schools, and parks.    Don't miss the opportunity to own this beautifully renovated gem. Schedule your showing today and experience the charm and sophistication of 306 E Cascade, Rialto.\\nhomeType: SINGLE_FAMILY\\nheating: ['Central']\\ncooling: ['Central Air']\\nfireplaces: \\nflooring: ['Laminate']\\nfurnished: FALSE\\nSchoole: [{'name': 'Morgan Elementary School', 'level': 'Elementary', 'rating': 6}, {'name': 'Frisbie Middle School', 'level': 'Middle', 'rating': 3}, {'name': 'Eisenhower Senior High School', 'level': 'High', 'rating': 5}]\\nneighborhoodName: []\\nappliances: ['Dishwasher', 'Gas Range']\\nassociationAmenities: \\ncarParking: \", metadata={'source': '/content/property_details_10.csv', 'row': 5}),\n",
              " Document(page_content=\": 6\\nzpid: 6596316\\ndescription: Wow! Beautifully remodeled single-story home featuring an open great room floor plan with laminated wood flooring RV Parking, new fixtures, 2-tone paint, and a fireplace with a mantle and backsplash. Enjoy the vaulted ceilings, custom woodwork, and upgraded baseboards throughout. The kitchen is equipped with custom cabinets, a massive island with a quartz countertop, and a sliding glass door to the rear yard. The primary bedroom includes custom closet built-ins, a slider to the rear yard, and a stunning bathroom with dual sinks and a decorative shower backsplash. Secondary bedrooms also have custom closet built-ins. The private rear yard is perfect for entertaining with a covered patio, synthetic grass, and a fire pit.  Plus, there’s no HOA! Truly a must-see property in a fantastic location close to the highway, shopping, and restaurants!\\nhomeType: SINGLE_FAMILY\\nheating: ['Central', 'Gas']\\ncooling: ['Central Air', 'Electric']\\nfireplaces: 0\\nflooring: ['Laminate']\\nfurnished: FALSE\\nSchoole: [{'name': 'Lilly & Wing Fong Elementary School', 'level': 'Primary', 'rating': 6}, {'name': 'Frank F Garside Junior High School', 'level': 'Middle', 'rating': 2}, {'name': 'Western High School', 'level': 'High', 'rating': 5}]\\nneighborhoodName: ['Centennial Hills', 'Charleston Heights', 'Enterprise', 'Lone Mountain', 'Michael Way', 'North Cheyenne', 'Paradise', 'Spring Valley', 'Summerlin North', 'Sunrise Manor']\\nappliances: ['Dryer', 'Dishwasher', 'Disposal', 'Gas Range', 'Refrigerator', 'Washer']\\nassociationAmenities: ['None']\\ncarParking: 0\", metadata={'source': '/content/property_details_10.csv', 'row': 6}),\n",
              " Document(page_content=\": 7\\nzpid: 6596316\\ndescription: Welcome to this serene Waterfront Retreat! \\r\\n\\r\\nDiscover this like-new 3-bedroom, 2-bathroom waterfront home nestled on almost an acre lot. Wood floors throughout the home create a warm and inviting ambiance, while the tile bathrooms and laundry room offer both functionality and style. The tranquil covered patio provides a perfect spot to take in the peaceful pond and the enchanting view of the trees across the water.\\r\\n\\r\\nStep into the beautiful kitchen featuring upgraded quartz countertops and stainless steel appliances, making it the heart of this inviting abode. This picturesque waterfront property offers a perfect blend of modern luxury and natural serenity.\\nhomeType: SINGLE_FAMILY\\nheating: ['Central']\\ncooling: ['Central Air']\\nfireplaces: \\nflooring: ['Tile', 'Wood']\\nfurnished: FALSE\\nSchoole: [{'name': 'Louis S. Sheffield Elementary School', 'level': 'Elementary', 'rating': 7}, {'name': 'Oceanway School', 'level': 'Middle', 'rating': 2}, {'name': 'First Coast High School', 'level': 'High', 'rating': 4}]\\nneighborhoodName: ['Baymeadows', 'Beach Haven', 'Chimney Lakes', 'Deerwood', 'Del Rio', 'East Arlington', 'Golden Glades - The Woods', 'Jacksonville Heights', 'Sandalwood', 'Windy Hill']\\nappliances: ['Dishwasher', 'Disposal', 'Dryer', 'Electric Range', 'Microwave', 'Refrigerator', 'Washer']\\nassociationAmenities: \\ncarParking: \", metadata={'source': '/content/property_details_10.csv', 'row': 7}),\n",
              " Document(page_content=\": 8\\nzpid: 6596316\\ndescription: Look no Further, incredible opportunity to be in the desirable Ivey Chase Community. As you step inside, you'll be greeted by a Two Story Foyer, Dining Room with Custom Barn Door, Office Space, and Hardwood Flooring that boast throughout the Main. The recently renovated kitchen is a chef's delight, with a working island, gas range, stainless steel appliances, and ample counter space for meal preparation. You'll enjoy the open living concept this home offers - a spacious living room with gas fireplace that flow effortlessly into the breakfast nook and kitchen, the perfect space for entertaining. Owners suite with trey ceilings and an ensuite bath with dual vanity sinks, soaking tub and tile surround shower. Upstairs you'll also find New Carpet throughout, Three Secondary Rooms, a Full Bath and Laundry Room. Escape to your Backyard and enjoy the Upgraded Expansive Patio, NEW 2024 ROOF and Lush Greenery that surrounds the Fenced in yard - creating the perfect space for Privacy and Outdoor Entertainment! Hometown Lifestyle close to Schools, Shopping, Dining, Entertainment, Multiple Public Parks and Recreation, Lake Lanier, and I85!\\nhomeType: SINGLE_FAMILY\\nheating: ['Central']\\ncooling: ['Ceiling Fan(s)', 'Central Air']\\nfireplaces: 1\\nflooring: ['Carpet', 'Hardwood']\\nfurnished: FALSE\\nSchoole: [{'name': 'Dyer Elementary School', 'level': 'Primary', 'rating': 9}, {'name': 'Twin Rivers Middle School', 'level': 'Middle', 'rating': 8}, {'name': 'Mountain View High School', 'level': 'High', 'rating': 7}]\\nneighborhoodName: []\\nappliances: ['Cooktop', 'Dishwasher', 'Microwave', 'Oven']\\nassociationAmenities: \\ncarParking: \", metadata={'source': '/content/property_details_10.csv', 'row': 8}),\n",
              " Document(page_content=\": 9\\nzpid: 6596316\\ndescription: This stunning Candlewood home is ready for its new owners!  Prepare to be impressed by this modern multi-level home that is open, updated and spacious. The kitchen was recently remodeled and includes stainless steel appliances, quartz countertops, soft close cabinets, and a unique custom island.  The living room has vaulted ceilings and a fabulous fireplace wall. Natural light fills the home. The large primary bedroom includes a walk-in closet and dual sinks. The finished basement gives that extra added space for you or your family to enjoy, and would also be perfect for that sought after home office. The welcoming aspect of this home extends to the outdoors with a brick patio surrounded by a lush, LARGE fenced yard. The home is just steps away from your opportunity to enjoy a stroll around the picturesque lake. This is a great central location, with quick and easy access to Dodge.  Come check it out!\\nhomeType: SINGLE_FAMILY\\nheating: ['Forced Air', 'Natural Gas']\\ncooling: ['Central Air']\\nfireplaces: 1\\nflooring: ['Carpet', 'Ceramic Tile', 'Laminate', 'Wood', 'Ceramic Tile Floor']\\nfurnished: FALSE\\nSchoole: [{'name': 'Columbian Elementary School', 'level': 'Primary', 'rating': 6}, {'name': 'Beveridge Magnet Middle School', 'level': 'Middle', 'rating': 3}, {'name': 'Burke High School', 'level': 'High', 'rating': 5}]\\nneighborhoodName: ['Aksarben-Elmwood Park', 'Benson', 'Deer Park', 'Elkhorn', 'Hanscom Park', 'Maple Village', 'Miller Park-Minne Lusa', 'Northwest', 'Triple One', 'Wiercrest']\\nappliances: ['Range - Cooktop + Oven', 'Refrigerator', 'Washer', 'Dishwasher', 'Dryer', 'Disposal', 'Microwave']\\nassociationAmenities: \\ncarParking: \", metadata={'source': '/content/property_details_10.csv', 'row': 9}),\n",
              " Document(page_content=\": 10\\nzpid: 6596316\\ndescription: If you're seeking a private retreat to call your own, look no further! This beautiful log cabin home is situated on 3.6 wooded acres in Auburn. A long, tree-lined shared driveway leads you to this tranquil setting. The home features a wrap-around deck, swimming pool, pool house, and hot tub structure. Inside, you'll find a spacious great room with a vaulted ceiling and a stone gas-started fireplace. The kitchen boasts an island for ample counter space and room for a large table. Down the hall are two generously sized bedrooms and a full bath with double sinks. Upstairs, there's a cozy loft that serves as an office but can also function as a playroom or extra TV room, offering a view of the great room. Continuing down the hallway, you'll find the main bathroom with a shower and claw-foot tub, as well as the main bedroom with a walk-in closet and stunning views of the property. A first-floor laundry/mud room with a utility sink and storage is conveniently located at the back entrance. The basement features a large rec room, bar area, and additional storage space. There is a two-car garage and extra parking spaces for guests. While the property needs some love to make it your own, it offers great potential. Located in the Kenston School District with Geauga County taxes. Don't miss out on this one!\\nhomeType: SINGLE_FAMILY\\nheating: ['Forced Air']\\ncooling: ['Central Air', 'Ceiling Fan(s)']\\nfireplaces: 1\\nflooring: \\nfurnished: FALSE\\nSchoole: [{'name': 'Timmons Elementary School', 'level': 'Primary', 'rating': 7}, {'name': 'Kenston Middle School', 'level': 'Middle', 'rating': 7}, {'name': 'Kenston High School', 'level': 'High', 'rating': 8}]\\nneighborhoodName: ['Bainbridge']\\nappliances: ['Dryer', 'Dishwasher', 'Freezer', 'Microwave', 'Range', 'Refrigerator', 'Washer']\\nassociationAmenities: \\ncarParking: \", metadata={'source': '/content/property_details_10.csv', 'row': 10}),\n",
              " Document(page_content=\": 11\\nzpid: 81828725\\ndescription: iscover this fully upgraded 4-bedroom, 2-bathroom manufactured home, perfect for modern living. The heart of this residence is the kitchen, equipped with quartz countertops, stainless steel appliances, and striking black & white shaker cabinets with soft-closing features. Freshly painted walls are complemented by 5-inch baseboards and durable vinyl flooring (LVP), providing a sleek and contemporary look. Each bathroom has been beautifully remodeled with new custom tile showers, adding a touch of luxury. Additional features include two carports, wood slates fixture, artificial grass, a large kitchen island, and an extra-sized kitchen with a patio cover. This home combines style, comfort, and practicality, making it an ideal choice for anyone looking for a move-in ready property.\\nhomeType: MANUFACTURED\\nheating: ['Central', 'Gas']\\ncooling: ['Central Air', 'Electric']\\nfireplaces: 0\\nflooring: ['Luxury Vinyl Plank']\\nfurnished: FALSE\\nSchoole: [{'name': 'Hal Smith Elementary School', 'level': 'Primary', 'rating': 2}, {'name': 'Kathleen & Tim Harney Middle School', 'level': 'Middle', 'rating': 3}, {'name': 'Chaparral High School', 'level': 'High', 'rating': 3}]\\nneighborhoodName: ['Centennial Hills', 'Charleston Heights', 'Enterprise', 'Lone Mountain', 'Michael Way', 'North Cheyenne', 'Paradise', 'Spring Valley', 'Summerlin North', 'Sunrise Manor']\\nappliances: ['Dishwasher', 'Disposal', 'Gas Range', 'Microwave']\\nassociationAmenities: ['Clubhouse', 'Fitness Center', 'Park', 'Pool', 'Recreation Room', 'RV Parking', 'Security']\\ncarParking: 2\", metadata={'source': '/content/property_details_10.csv', 'row': 11}),\n",
              " Document(page_content=\": 12\\nzpid: 38178011\\ndescription: Imagine starting your days sipping coffee or tea on your covered front porch, basking in the rising sun's warm glow. This 4 bedroom, 2 bath dream home invites you to experience the perfect blend of comfort and style!   Perfect for growing families, the open-concept kitchen and dining area create an inviting space for memorable meals and lively gatherings. Slide open the doors to the covered back porch, allowing the indoors and outdoors to blend seamlessly. Or, let the natural light pour in through the beautiful French doors that open onto the living room—an ideal setting for cozy movie nights!   It’s summer and your outdoor oasis awaits! Fire up the grill and invite loved ones over for backyard barbecues and fun-filled games across the backyard. You can savor those long summer days with another covered porch area in complete comfort and privacy.   But the perks don't stop there! Say goodbye to the headaches of street parking, because this wonderful offers its very own driveway. Simply pull in and start embracing the laidback Willingboro lifestyle!   Speaking of location, you'll immerse yourself in the best this township offers. From the serene greenery of Millcreek Park to mouth-watering eateries, and unbeatable shopping options - this prime address has it all just steps from your front door.   Don't let your dream home pass you by! Make this bright, open, and amenity-rich Willingboro beauty your own personal oasis. Contact me today to stake your claim on the good life!\\nhomeType: SINGLE_FAMILY\\nheating: ['Forced Air', 'Natural Gas']\\ncooling: ['Central A/C', 'Natural Gas']\\nfireplaces: \\nflooring: ['Carpet', 'Tile/Brick', 'Wood']\\nfurnished: FALSE\\nSchoole: [{'name': 'Hawthorne Park Elementary School', 'level': 'Elementary', 'rating': 4}, {'name': 'Memorial Middle School', 'level': 'Elementary', 'rating': 4}, {'name': 'Willingboro High School', 'level': 'High', 'rating': 1}]\\nneighborhoodName: []\\nappliances: ['Dishwasher', 'Refrigerator', 'Stove', 'Gas Water Heater']\\nassociationAmenities: \\ncarParking: \", metadata={'source': '/content/property_details_10.csv', 'row': 12}),\n",
              " Document(page_content=\": 13\\nzpid: 6964521\\ndescription: Wow! This 4-bed, 3-bath single-story home is a true gem. Newly renovated and perfectly situated in a tranquil neighborhood, it features fresh paint, a modern and aesthetic design, and elegant vaulted ceilings. The home boasts laminated wood flooring throughout, a cozy fireplace in the living room, and a kitchen equipped with a new modern light fixture and a breakfast bar/counter. The well-sized bedrooms come with mirrored door closets. Outside, enjoy a beautiful, private backyard with a covered patio and pool. Located in a great area with no HOA, it’s within walking distance of parks and shopping centers and offers hassle-free connectivity with easy freeway access to Summerlin Pkwy. This is one of a kind, don't miss this opportunity!\\nhomeType: SINGLE_FAMILY\\nheating: ['Central', 'Gas']\\ncooling: ['Central Air', 'Electric']\\nfireplaces: 1\\nflooring: ['Laminate']\\nfurnished: FALSE\\nSchoole: [{'name': 'Edythe & Lloyd Katz Elementary School', 'level': 'Primary', 'rating': 4}, {'name': 'Ernest Becker Middle School', 'level': 'Middle', 'rating': 6}, {'name': 'Cimarron Memorial High School', 'level': 'High', 'rating': 5}]\\nneighborhoodName: ['Centennial Hills', 'Charleston Heights', 'Enterprise', 'Lone Mountain', 'Michael Way', 'North Cheyenne', 'Paradise', 'Spring Valley', 'Summerlin North', 'Sunrise Manor']\\nappliances: ['Dishwasher', 'Disposal', 'Gas Range', 'Microwave']\\nassociationAmenities: ['None']\\ncarParking: 0\", metadata={'source': '/content/property_details_10.csv', 'row': 13}),\n",
              " Document(page_content=': 14\\nzpid: 35836826\\ndescription: Enchanting Historical Gem in Sylvan Hills. Discover a captivating piece of history with this exquisitely renovated 3-bedroom, 2-bathroom home. As featured on \"Flip or Flop Atlanta,\" this residence not only boasts reality TV fame but also showcases the remarkable enhancements made by its current owners, surpassing the show\\'s original design. From the moment you arrive, the custom lime-wash exterior sets this home apart as truly one-of-a-kind. Step inside to an expanded living area, offering a spacious and inviting atmosphere rarely found on this street. The designer kitchen is a chef\\'s paradise, equipped with updated cabinets, a stylish backsplash, modern appliances, quartz countertops, and open shelving, ready to inspire your culinary adventures. Gleaming hardwood floors flow throughout the home, leading to the renovated primary bathroom that combines modern comfort with historical charm. Despite its listed square footage, this home feels much larger, reminiscent of the Tardis from Doctor Who. With no HOA but a vibrant and welcoming neighborhood association, this home is perfect for those who value community. Enjoy the convenience of being less than a mile from Perkerson Park, a short walk to the Westside Beltline, and the Marta station. Lee + White, the Beltline\\'s latest attraction, is just a stone\\'s throw away, offering an array of dining and entertainment options. Proximity to Tyler Perry Studios and a quick 10-minute drive to the airport make this location ideal for work and play. The large, private backyard is a sanctuary with a charming pergola, perfect for outdoor relaxation and entertaining. Freshly updated paint inside and out adds a contemporary touch to this timeless classic. Seize the rare opportunity to own a slice of Sylvan Hills history with all the modern comforts you desire. Fall in love with your new home!\\nhomeType: SINGLE_FAMILY\\nheating: [\\'Central\\', \\'Electric\\']\\ncooling: [\\'Ceiling Fan(s)\\', \\'Central Air\\', \\'Electric\\']\\nfireplaces: 0\\nflooring: [\\'Hardwood\\', \\'Tile\\']\\nfurnished: FALSE\\nSchoole: [{\\'name\\': \\'Perkerson Elementary School\\', \\'level\\': \\'Primary\\', \\'rating\\': 5}, {\\'name\\': \\'Sylvan Hills Middle School\\', \\'level\\': \\'Middle\\', \\'rating\\': 5}, {\\'name\\': \\'Carver High School\\', \\'level\\': \\'High\\', \\'rating\\': 1}]\\nneighborhoodName: [\\'Downtown\\', \\'Druid Hills\\', \\'Grant Park\\', \\'Midtown\\', \\'Morningside - Lenox Park\\', \\'North Buckhead\\', \\'North Druid Hills\\', \\'Old Fourth Ward\\', \\'Pine Hills\\', \\'Virginia Highland\\']\\nappliances: [\\'Dishwasher\\', \\'Double Oven\\', \\'Dryer\\', \\'Electric Water Heater\\', \\'Microwave\\', \\'Oven/Range (Combo)\\', \\'Refrigerator\\', \\'Stainless Steel Appliance(s)\\', \\'Washer\\']\\nassociationAmenities: \\ncarParking: ', metadata={'source': '/content/property_details_10.csv', 'row': 14}),\n",
              " Document(page_content=\": 15\\nzpid: 6596316\\ndescription: **Contract Pending** Welcome to your Private Oasis, backing to wooded area along the Helen Boosalis Trail. This beautifully updated home is completely turn key and ready to entertain! With more than 2,700 sq ft of finished space - this well-designed 5 bed 3 bath property is one with unlimited possibilities - Enjoy a beautiful cedar lined 3 seasons room off the deck above the walkout basement, With beautiful landscaping and workshop in the back. Enjoy the heated tile floors in the kitchen + the additional family room and formal dining. Pool, and fish pond create a space you will never want to leave! Other convenient amenities include an extra deep garage (27 ft deep by 15 ft wide), Skylights, Speakers throughout main floor, & Heated Shop in backyard!\\nhomeType: SINGLE_FAMILY\\nheating: ['Forced Air', 'Natural Gas']\\ncooling: ['Central Air']\\nfireplaces: 1\\nflooring: \\nfurnished: FALSE\\nSchoole: [{'name': 'Zeman Elementary School', 'level': 'Primary', 'rating': 6}, {'name': 'Pound Middle School', 'level': 'Middle', 'rating': 7}, {'name': 'Lincoln Southeast High School', 'level': 'High', 'rating': 4}]\\nneighborhoodName: ['Belmont', 'Bethany', 'Clinton', 'Country Club', 'Family Acres', 'Havelock', 'Highlands', 'Near South', 'University Place', 'West A']\\nappliances: ['Dishwasher', 'Disposal', 'Dryer', 'Microwave', 'Range - Cooktop + Oven', 'Refrigerator', 'Washer']\\nassociationAmenities: \\ncarParking: \", metadata={'source': '/content/property_details_10.csv', 'row': 15})]"
            ]
          },
          "metadata": {},
          "execution_count": 20
        }
      ]
    },
    {
      "cell_type": "code",
      "source": [
        "from llama_index.core import PromptTemplate\n",
        "prompt_template = \"\"\"\\ Your a helpful assisstant for creating an marketing pitch for real estate property\\\n",
        "For the given property details and target audience generate a tailored and compelling pitch.\\\n",
        "\n",
        "property details: {property_details}\n",
        "target audience: {target_audience}\n",
        "\n",
        "The response strictly should be in JSON format with 3 to 4 sentences.\\\n",
        "For example:\n",
        "{{\n",
        "  \"Reponse: {{\"pitch\":\"Experience the pinnacle of luxury at Ocean Breeze Residences in Newport Beach, CA. Designed for dynamic professionals, our stunning beachfront homes offer private beach access, infinity pools, and a state-of-the-art spa. Choose from exquisite 2, 3, or 4-bedroom residences, priced from $1.8M to $4M, each featuring gourmet kitchens and high-end finishes. Elevate your lifestyle in a community where sophistication meets coastal serenity\"}}\n",
        "\"\"\"\n",
        "\n",
        "template_var_mapping = {\"property_str\":\"property_details\", \"target_str\":\"target_audience\"}\n",
        "\n",
        "prompt_tmpl = PromptTemplate(\n",
        "    prompt_template, template_var_mappings=template_var_mapping\n",
        ")\n",
        "\n",
        "property_details = {\n",
        "  \"Name\": \"Mountain Horizon Cabins\",\n",
        "  \"Location\": \"Aspen, CO\",\n",
        "  \"Property Type\": \"Luxury Cabins\",\n",
        "  \"Availability\": \"3 Bed, 2 Bath | 4 Bed, 3 Bath | 5 Bed, 4 Bath\",\n",
        "  \"Price Range\": \"$2M - $5M\",\n",
        "  \"Amenities\": [\"Ski-In/Ski-Out Access\", \"Private Hot Tubs\", \"Stone Fireplaces\", \"Gourmet Kitchens with Chef-Grade Appliances\", \"Dedicated Ski Storage Rooms\", \"Home Automation Systems\"],\n",
        "  \"Description\": \"Experience the ultimate mountain retreat with our luxurious cabins in Aspen. Perfect for winter sports enthusiasts and nature lovers, Mountain Horizon Cabins combine rustic charm with modern convenience, offering stunning views of the Rockies and direct access to trails and ski slopes.\"\n",
        "}\n",
        "targeted_group = \"age between 25 and 30\"\n",
        "\n",
        "fmt_prompt = prompt_tmpl.format(property_details=property_details, target_audience=targeted_group)\n",
        "print(fmt_prompt)\n"
      ],
      "metadata": {
        "colab": {
          "base_uri": "https://localhost:8080/"
        },
        "id": "DdgAebWYyJjN",
        "outputId": "8a5850fa-aae0-4822-8b9c-9ec759cbd482"
      },
      "execution_count": 21,
      "outputs": [
        {
          "output_type": "stream",
          "name": "stdout",
          "text": [
            "\\ Your a helpful assisstant for creating an marketing pitch for real estate propertyFor the given property details and target audience generate a tailored and compelling pitch.\n",
            "property details: {'Name': 'Mountain Horizon Cabins', 'Location': 'Aspen, CO', 'Property Type': 'Luxury Cabins', 'Availability': '3 Bed, 2 Bath | 4 Bed, 3 Bath | 5 Bed, 4 Bath', 'Price Range': '$2M - $5M', 'Amenities': ['Ski-In/Ski-Out Access', 'Private Hot Tubs', 'Stone Fireplaces', 'Gourmet Kitchens with Chef-Grade Appliances', 'Dedicated Ski Storage Rooms', 'Home Automation Systems'], 'Description': 'Experience the ultimate mountain retreat with our luxurious cabins in Aspen. Perfect for winter sports enthusiasts and nature lovers, Mountain Horizon Cabins combine rustic charm with modern convenience, offering stunning views of the Rockies and direct access to trails and ski slopes.'}\n",
            "target audience: age between 25 and 30\n",
            "\n",
            "The response strictly should be in JSON format with 3 to 4 sentences.For example:\n",
            "{\n",
            "  \"Reponse: {\"pitch\":\"Experience the pinnacle of luxury at Ocean Breeze Residences in Newport Beach, CA. Designed for dynamic professionals, our stunning beachfront homes offer private beach access, infinity pools, and a state-of-the-art spa. Choose from exquisite 2, 3, or 4-bedroom residences, priced from $1.8M to $4M, each featuring gourmet kitchens and high-end finishes. Elevate your lifestyle in a community where sophistication meets coastal serenity\"}\n",
            "\n"
          ]
        }
      ]
    },
    {
      "cell_type": "code",
      "source": [
        "!pip install --upgrade llama-index"
      ],
      "metadata": {
        "colab": {
          "base_uri": "https://localhost:8080/"
        },
        "id": "xodYoJnu0OV_",
        "outputId": "49d290e2-2e2c-4420-b366-c513f96dcf8b"
      },
      "execution_count": 23,
      "outputs": [
        {
          "output_type": "stream",
          "name": "stdout",
          "text": [
            "Requirement already satisfied: llama-index in /usr/local/lib/python3.10/dist-packages (0.10.48.post1)\n",
            "Requirement already satisfied: llama-index-agent-openai<0.3.0,>=0.1.4 in /usr/local/lib/python3.10/dist-packages (from llama-index) (0.2.7)\n",
            "Requirement already satisfied: llama-index-cli<0.2.0,>=0.1.2 in /usr/local/lib/python3.10/dist-packages (from llama-index) (0.1.12)\n",
            "Requirement already satisfied: llama-index-core==0.10.48 in /usr/local/lib/python3.10/dist-packages (from llama-index) (0.10.48)\n",
            "Requirement already satisfied: llama-index-embeddings-openai<0.2.0,>=0.1.5 in /usr/local/lib/python3.10/dist-packages (from llama-index) (0.1.10)\n",
            "Requirement already satisfied: llama-index-indices-managed-llama-cloud<0.2.0,>=0.1.2 in /usr/local/lib/python3.10/dist-packages (from llama-index) (0.1.6)\n",
            "Requirement already satisfied: llama-index-legacy<0.10.0,>=0.9.48 in /usr/local/lib/python3.10/dist-packages (from llama-index) (0.9.48)\n",
            "Requirement already satisfied: llama-index-llms-openai<0.2.0,>=0.1.13 in /usr/local/lib/python3.10/dist-packages (from llama-index) (0.1.22)\n",
            "Requirement already satisfied: llama-index-multi-modal-llms-openai<0.2.0,>=0.1.3 in /usr/local/lib/python3.10/dist-packages (from llama-index) (0.1.6)\n",
            "Requirement already satisfied: llama-index-program-openai<0.2.0,>=0.1.3 in /usr/local/lib/python3.10/dist-packages (from llama-index) (0.1.6)\n",
            "Requirement already satisfied: llama-index-question-gen-openai<0.2.0,>=0.1.2 in /usr/local/lib/python3.10/dist-packages (from llama-index) (0.1.3)\n",
            "Requirement already satisfied: llama-index-readers-file<0.2.0,>=0.1.4 in /usr/local/lib/python3.10/dist-packages (from llama-index) (0.1.25)\n",
            "Requirement already satisfied: llama-index-readers-llama-parse<0.2.0,>=0.1.2 in /usr/local/lib/python3.10/dist-packages (from llama-index) (0.1.4)\n",
            "Requirement already satisfied: PyYAML>=6.0.1 in /usr/local/lib/python3.10/dist-packages (from llama-index-core==0.10.48->llama-index) (6.0.1)\n",
            "Requirement already satisfied: SQLAlchemy[asyncio]>=1.4.49 in /usr/local/lib/python3.10/dist-packages (from llama-index-core==0.10.48->llama-index) (2.0.30)\n",
            "Requirement already satisfied: aiohttp<4.0.0,>=3.8.6 in /usr/local/lib/python3.10/dist-packages (from llama-index-core==0.10.48->llama-index) (3.9.5)\n",
            "Requirement already satisfied: dataclasses-json in /usr/local/lib/python3.10/dist-packages (from llama-index-core==0.10.48->llama-index) (0.6.7)\n",
            "Requirement already satisfied: deprecated>=1.2.9.3 in /usr/local/lib/python3.10/dist-packages (from llama-index-core==0.10.48->llama-index) (1.2.14)\n",
            "Requirement already satisfied: dirtyjson<2.0.0,>=1.0.8 in /usr/local/lib/python3.10/dist-packages (from llama-index-core==0.10.48->llama-index) (1.0.8)\n",
            "Requirement already satisfied: fsspec>=2023.5.0 in /usr/local/lib/python3.10/dist-packages (from llama-index-core==0.10.48->llama-index) (2023.6.0)\n",
            "Requirement already satisfied: httpx in /usr/local/lib/python3.10/dist-packages (from llama-index-core==0.10.48->llama-index) (0.27.0)\n",
            "Requirement already satisfied: llamaindex-py-client<0.2.0,>=0.1.18 in /usr/local/lib/python3.10/dist-packages (from llama-index-core==0.10.48->llama-index) (0.1.19)\n",
            "Requirement already satisfied: nest-asyncio<2.0.0,>=1.5.8 in /usr/local/lib/python3.10/dist-packages (from llama-index-core==0.10.48->llama-index) (1.6.0)\n",
            "Requirement already satisfied: networkx>=3.0 in /usr/local/lib/python3.10/dist-packages (from llama-index-core==0.10.48->llama-index) (3.3)\n",
            "Requirement already satisfied: nltk<4.0.0,>=3.8.1 in /usr/local/lib/python3.10/dist-packages (from llama-index-core==0.10.48->llama-index) (3.8.1)\n",
            "Requirement already satisfied: numpy<2.0.0 in /usr/local/lib/python3.10/dist-packages (from llama-index-core==0.10.48->llama-index) (1.25.2)\n",
            "Requirement already satisfied: openai>=1.1.0 in /usr/local/lib/python3.10/dist-packages (from llama-index-core==0.10.48->llama-index) (1.35.3)\n",
            "Requirement already satisfied: pandas in /usr/local/lib/python3.10/dist-packages (from llama-index-core==0.10.48->llama-index) (2.0.3)\n",
            "Requirement already satisfied: pillow>=9.0.0 in /usr/local/lib/python3.10/dist-packages (from llama-index-core==0.10.48->llama-index) (9.4.0)\n",
            "Requirement already satisfied: requests>=2.31.0 in /usr/local/lib/python3.10/dist-packages (from llama-index-core==0.10.48->llama-index) (2.31.0)\n",
            "Requirement already satisfied: tenacity!=8.4.0,<9.0.0,>=8.2.0 in /usr/local/lib/python3.10/dist-packages (from llama-index-core==0.10.48->llama-index) (8.4.1)\n",
            "Requirement already satisfied: tiktoken>=0.3.3 in /usr/local/lib/python3.10/dist-packages (from llama-index-core==0.10.48->llama-index) (0.7.0)\n",
            "Requirement already satisfied: tqdm<5.0.0,>=4.66.1 in /usr/local/lib/python3.10/dist-packages (from llama-index-core==0.10.48->llama-index) (4.66.4)\n",
            "Requirement already satisfied: typing-extensions>=4.5.0 in /usr/local/lib/python3.10/dist-packages (from llama-index-core==0.10.48->llama-index) (4.12.2)\n",
            "Requirement already satisfied: typing-inspect>=0.8.0 in /usr/local/lib/python3.10/dist-packages (from llama-index-core==0.10.48->llama-index) (0.9.0)\n",
            "Requirement already satisfied: wrapt in /usr/local/lib/python3.10/dist-packages (from llama-index-core==0.10.48->llama-index) (1.14.1)\n",
            "Requirement already satisfied: beautifulsoup4<5.0.0,>=4.12.3 in /usr/local/lib/python3.10/dist-packages (from llama-index-readers-file<0.2.0,>=0.1.4->llama-index) (4.12.3)\n",
            "Requirement already satisfied: pypdf<5.0.0,>=4.0.1 in /usr/local/lib/python3.10/dist-packages (from llama-index-readers-file<0.2.0,>=0.1.4->llama-index) (4.2.0)\n",
            "Requirement already satisfied: striprtf<0.0.27,>=0.0.26 in /usr/local/lib/python3.10/dist-packages (from llama-index-readers-file<0.2.0,>=0.1.4->llama-index) (0.0.26)\n",
            "Requirement already satisfied: llama-parse<0.5.0,>=0.4.0 in /usr/local/lib/python3.10/dist-packages (from llama-index-readers-llama-parse<0.2.0,>=0.1.2->llama-index) (0.4.4)\n",
            "Requirement already satisfied: aiosignal>=1.1.2 in /usr/local/lib/python3.10/dist-packages (from aiohttp<4.0.0,>=3.8.6->llama-index-core==0.10.48->llama-index) (1.3.1)\n",
            "Requirement already satisfied: attrs>=17.3.0 in /usr/local/lib/python3.10/dist-packages (from aiohttp<4.0.0,>=3.8.6->llama-index-core==0.10.48->llama-index) (23.2.0)\n",
            "Requirement already satisfied: frozenlist>=1.1.1 in /usr/local/lib/python3.10/dist-packages (from aiohttp<4.0.0,>=3.8.6->llama-index-core==0.10.48->llama-index) (1.4.1)\n",
            "Requirement already satisfied: multidict<7.0,>=4.5 in /usr/local/lib/python3.10/dist-packages (from aiohttp<4.0.0,>=3.8.6->llama-index-core==0.10.48->llama-index) (6.0.5)\n",
            "Requirement already satisfied: yarl<2.0,>=1.0 in /usr/local/lib/python3.10/dist-packages (from aiohttp<4.0.0,>=3.8.6->llama-index-core==0.10.48->llama-index) (1.9.4)\n",
            "Requirement already satisfied: async-timeout<5.0,>=4.0 in /usr/local/lib/python3.10/dist-packages (from aiohttp<4.0.0,>=3.8.6->llama-index-core==0.10.48->llama-index) (4.0.3)\n",
            "Requirement already satisfied: soupsieve>1.2 in /usr/local/lib/python3.10/dist-packages (from beautifulsoup4<5.0.0,>=4.12.3->llama-index-readers-file<0.2.0,>=0.1.4->llama-index) (2.5)\n",
            "Requirement already satisfied: pydantic>=1.10 in /usr/local/lib/python3.10/dist-packages (from llamaindex-py-client<0.2.0,>=0.1.18->llama-index-core==0.10.48->llama-index) (2.7.4)\n",
            "Requirement already satisfied: anyio in /usr/local/lib/python3.10/dist-packages (from httpx->llama-index-core==0.10.48->llama-index) (3.7.1)\n",
            "Requirement already satisfied: certifi in /usr/local/lib/python3.10/dist-packages (from httpx->llama-index-core==0.10.48->llama-index) (2024.6.2)\n",
            "Requirement already satisfied: httpcore==1.* in /usr/local/lib/python3.10/dist-packages (from httpx->llama-index-core==0.10.48->llama-index) (1.0.5)\n",
            "Requirement already satisfied: idna in /usr/local/lib/python3.10/dist-packages (from httpx->llama-index-core==0.10.48->llama-index) (3.7)\n",
            "Requirement already satisfied: sniffio in /usr/local/lib/python3.10/dist-packages (from httpx->llama-index-core==0.10.48->llama-index) (1.3.1)\n",
            "Requirement already satisfied: h11<0.15,>=0.13 in /usr/local/lib/python3.10/dist-packages (from httpcore==1.*->httpx->llama-index-core==0.10.48->llama-index) (0.14.0)\n",
            "Requirement already satisfied: click in /usr/local/lib/python3.10/dist-packages (from nltk<4.0.0,>=3.8.1->llama-index-core==0.10.48->llama-index) (8.1.7)\n",
            "Requirement already satisfied: joblib in /usr/local/lib/python3.10/dist-packages (from nltk<4.0.0,>=3.8.1->llama-index-core==0.10.48->llama-index) (1.4.2)\n",
            "Requirement already satisfied: regex>=2021.8.3 in /usr/local/lib/python3.10/dist-packages (from nltk<4.0.0,>=3.8.1->llama-index-core==0.10.48->llama-index) (2024.5.15)\n",
            "Requirement already satisfied: distro<2,>=1.7.0 in /usr/lib/python3/dist-packages (from openai>=1.1.0->llama-index-core==0.10.48->llama-index) (1.7.0)\n",
            "Requirement already satisfied: charset-normalizer<4,>=2 in /usr/local/lib/python3.10/dist-packages (from requests>=2.31.0->llama-index-core==0.10.48->llama-index) (3.3.2)\n",
            "Requirement already satisfied: urllib3<3,>=1.21.1 in /usr/local/lib/python3.10/dist-packages (from requests>=2.31.0->llama-index-core==0.10.48->llama-index) (2.0.7)\n",
            "Requirement already satisfied: greenlet!=0.4.17 in /usr/local/lib/python3.10/dist-packages (from SQLAlchemy[asyncio]>=1.4.49->llama-index-core==0.10.48->llama-index) (3.0.3)\n",
            "Requirement already satisfied: mypy-extensions>=0.3.0 in /usr/local/lib/python3.10/dist-packages (from typing-inspect>=0.8.0->llama-index-core==0.10.48->llama-index) (1.0.0)\n",
            "Requirement already satisfied: marshmallow<4.0.0,>=3.18.0 in /usr/local/lib/python3.10/dist-packages (from dataclasses-json->llama-index-core==0.10.48->llama-index) (3.21.3)\n",
            "Requirement already satisfied: python-dateutil>=2.8.2 in /usr/local/lib/python3.10/dist-packages (from pandas->llama-index-core==0.10.48->llama-index) (2.8.2)\n",
            "Requirement already satisfied: pytz>=2020.1 in /usr/local/lib/python3.10/dist-packages (from pandas->llama-index-core==0.10.48->llama-index) (2023.4)\n",
            "Requirement already satisfied: tzdata>=2022.1 in /usr/local/lib/python3.10/dist-packages (from pandas->llama-index-core==0.10.48->llama-index) (2024.1)\n",
            "Requirement already satisfied: exceptiongroup in /usr/local/lib/python3.10/dist-packages (from anyio->httpx->llama-index-core==0.10.48->llama-index) (1.2.1)\n",
            "Requirement already satisfied: packaging>=17.0 in /usr/local/lib/python3.10/dist-packages (from marshmallow<4.0.0,>=3.18.0->dataclasses-json->llama-index-core==0.10.48->llama-index) (24.1)\n",
            "Requirement already satisfied: annotated-types>=0.4.0 in /usr/local/lib/python3.10/dist-packages (from pydantic>=1.10->llamaindex-py-client<0.2.0,>=0.1.18->llama-index-core==0.10.48->llama-index) (0.7.0)\n",
            "Requirement already satisfied: pydantic-core==2.18.4 in /usr/local/lib/python3.10/dist-packages (from pydantic>=1.10->llamaindex-py-client<0.2.0,>=0.1.18->llama-index-core==0.10.48->llama-index) (2.18.4)\n",
            "Requirement already satisfied: six>=1.5 in /usr/local/lib/python3.10/dist-packages (from python-dateutil>=2.8.2->pandas->llama-index-core==0.10.48->llama-index) (1.16.0)\n"
          ]
        }
      ]
    },
    {
      "cell_type": "code",
      "source": [
        "llm = MistralAI(api_key= \"api_key\", model=\"mistral-small\")\n",
        "embed_model = MistralAIEmbedding(model_name=\"mistral-embed\", api_key=\"api_key\")\n",
        "service_context = ServiceContext.from_defaults(llm=llm, embed_model=embed_model)\n",
        "\n",
        "# Create vector store index\n",
        "index = VectorStoreIndex.from_documents(documents, service_context=service_context)\n",
        "\n",
        "# Create query engine\n",
        "query_engine = index.as_query_engine(similarity_top_k=2)\n",
        "\n",
        "formatted_query = prompt_template.format(property_details=property_details, target_audience=targeted_group)\n",
        "response = query_engine.query(\n",
        "   formatted_query\n",
        ")\n",
        "print(str(response))"
      ],
      "metadata": {
        "colab": {
          "base_uri": "https://localhost:8080/"
        },
        "id": "HPVwu_UmDGAH",
        "outputId": "cffde454-c395-4d20-b2d4-d6f612d4f4e5"
      },
      "execution_count": 26,
      "outputs": [
        {
          "output_type": "stream",
          "name": "stderr",
          "text": [
            "<ipython-input-26-d84844140104>:3: DeprecationWarning: Call to deprecated class method from_defaults. (ServiceContext is deprecated, please use `llama_index.settings.Settings` instead.) -- Deprecated since version 0.10.0.\n",
            "  service_context = ServiceContext.from_defaults(llm=llm, embed_model=embed_model)\n"
          ]
        },
        {
          "output_type": "stream",
          "name": "stdout",
          "text": [
            "{\n",
            "  \"Response\": {\n",
            "    \"pitch\": \"Discover a new level of luxury in the heart of Aspen with Mountain Horizon Cabins. Ideal for adventurous spirits and young professionals, these 3, 4, and 5-bedroom cabins offer ski-in/ski-out access, private hot tubs, and gourmet kitchens with chef-grade appliances. Priced between $2M - $5M, indulge in the perfect blend of rustic charm and modern convenience, all while enjoying stunning views of the Rockies and direct access to trails and ski slopes.\"\n",
            "  }\n",
            "}\n"
          ]
        }
      ]
    },
    {
      "cell_type": "code",
      "source": [
        "import json\n",
        "json_reponse = json.loads(str(response))\n",
        "json_reponse['Response']"
      ],
      "metadata": {
        "colab": {
          "base_uri": "https://localhost:8080/"
        },
        "id": "v-0j-hlT7QtS",
        "outputId": "b256f3e4-eac6-43c1-97af-05de52373af9"
      },
      "execution_count": 28,
      "outputs": [
        {
          "output_type": "stream",
          "name": "stdout",
          "text": [
            "{'Response': {'pitch': 'Discover a new level of luxury in the heart of Aspen with Mountain Horizon Cabins. Ideal for adventurous spirits and young professionals, these 3, 4, and 5-bedroom cabins offer ski-in/ski-out access, private hot tubs, and gourmet kitchens with chef-grade appliances. Priced between $2M - $5M, indulge in the perfect blend of rustic charm and modern convenience, all while enjoying stunning views of the Rockies and direct access to trails and ski slopes.'}}\n"
          ]
        }
      ]
    },
    {
      "cell_type": "code",
      "source": [
        "from llama_index.core import PromptTemplate\n",
        "prompt_template = \"\"\"\\ Your a helpful assisstant for creating an marketing pitch for real estate property\\\n",
        "For the given property details and target audience generate a tailored and compelling pitch.\\\n",
        "\n",
        "property details: {property_details}\n",
        "target audience: {target_audience}\n",
        "\n",
        "The response strictly should be in JSON format with 3 to 4 sentences.\\\n",
        "For example:\n",
        "{{\n",
        "  \"Reponse: {{\"pitch\":\"Experience the pinnacle of luxury at Ocean Breeze Residences in Newport Beach, CA. Designed for dynamic professionals, our stunning beachfront homes offer private beach access, infinity pools, and a state-of-the-art spa. Choose from exquisite 2, 3, or 4-bedroom residences, priced from $1.8M to $4M, each featuring gourmet kitchens and high-end finishes. Elevate your lifestyle in a community where sophistication meets coastal serenity\"}}\n",
        "\"\"\"\n",
        "\n",
        "template_var_mapping = {\"property_str\":\"property_details\", \"target_str\":\"target_audience\"}\n",
        "\n",
        "prompt_tmpl = PromptTemplate(\n",
        "    prompt_template, template_var_mappings=template_var_mapping\n",
        ")\n",
        "\n",
        "property_details = {\n",
        "  \"Name\": \"Mountain Horizon Cabins\",\n",
        "  \"Location\": \"Aspen, CO\",\n",
        "  \"Property Type\": \"Luxury Cabins\",\n",
        "  \"Availability\": \"3 Bed, 2 Bath | 4 Bed, 3 Bath | 5 Bed, 4 Bath\",\n",
        "  \"Price Range\": \"$2M - $5M\",\n",
        "  \"Amenities\": [\"Ski-In/Ski-Out Access\", \"Private Hot Tubs\", \"Stone Fireplaces\", \"Gourmet Kitchens with Chef-Grade Appliances\", \"Dedicated Ski Storage Rooms\", \"Home Automation Systems\"],\n",
        "  \"Description\": \"Experience the ultimate mountain retreat with our luxurious cabins in Aspen. Perfect for winter sports enthusiasts and nature lovers, Mountain Horizon Cabins combine rustic charm with modern convenience, offering stunning views of the Rockies and direct access to trails and ski slopes.\"\n",
        "}\n",
        "targeted_group = \"age between 25 and 30\"\n",
        "\n",
        "fmt_prompt = prompt_tmpl.format(property_details=property_details, target_audience=targeted_group)\n",
        "print(fmt_prompt)\n"
      ],
      "metadata": {
        "colab": {
          "base_uri": "https://localhost:8080/"
        },
        "id": "ZmMZRplHdP2i",
        "outputId": "e3cadd1e-ab8f-4b62-9508-3944968843dc"
      },
      "execution_count": 10,
      "outputs": [
        {
          "output_type": "stream",
          "name": "stdout",
          "text": [
            "\\ Your a helpful assisstant for creating an marketing pitch for real estate propertyFor the given property details and target audience generate a tailored and compelling pitch.\n",
            "property details: {'Name': 'Mountain Horizon Cabins', 'Location': 'Aspen, CO', 'Property Type': 'Luxury Cabins', 'Availability': '3 Bed, 2 Bath | 4 Bed, 3 Bath | 5 Bed, 4 Bath', 'Price Range': '$2M - $5M', 'Amenities': ['Ski-In/Ski-Out Access', 'Private Hot Tubs', 'Stone Fireplaces', 'Gourmet Kitchens with Chef-Grade Appliances', 'Dedicated Ski Storage Rooms', 'Home Automation Systems'], 'Description': 'Experience the ultimate mountain retreat with our luxurious cabins in Aspen. Perfect for winter sports enthusiasts and nature lovers, Mountain Horizon Cabins combine rustic charm with modern convenience, offering stunning views of the Rockies and direct access to trails and ski slopes.'}\n",
            "target audience: age between 25 and 30\n",
            "\n",
            "The response strictly should be in JSON format with 3 to 4 sentences.For example:\n",
            "{\n",
            "  \"Reponse: {\"pitch\":\"Experience the pinnacle of luxury at Ocean Breeze Residences in Newport Beach, CA. Designed for dynamic professionals, our stunning beachfront homes offer private beach access, infinity pools, and a state-of-the-art spa. Choose from exquisite 2, 3, or 4-bedroom residences, priced from $1.8M to $4M, each featuring gourmet kitchens and high-end finishes. Elevate your lifestyle in a community where sophistication meets coastal serenity\"}\n",
            "\n"
          ]
        }
      ]
    }
  ]
}